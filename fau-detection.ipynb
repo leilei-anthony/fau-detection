{
 "cells": [
  {
   "cell_type": "code",
   "execution_count": null,
   "id": "dc26536e",
   "metadata": {},
   "outputs": [],
   "source": [
    "# pip install scipy==1.10.1 py-feat==0.3.0"
   ]
  },
  {
   "cell_type": "code",
   "execution_count": 25,
   "id": "3d5dd30d",
   "metadata": {},
   "outputs": [],
   "source": [
    "from feat import Detector\n",
    "from PIL import Image\n",
    "\n",
    "import numpy as np\n",
    "import cv2\n",
    "import os\n",
    "import tempfile"
   ]
  },
  {
   "cell_type": "code",
   "execution_count": null,
   "id": "54e63c8d",
   "metadata": {},
   "outputs": [
    {
     "name": "stderr",
     "output_type": "stream",
     "text": [
      "100%|██████████| 214k/214k [00:00<00:00, 11.0MB/s]\n"
     ]
    }
   ],
   "source": [
    "# Initialize py-feat detector\n",
    "detector = Detector(\n",
    "    face_model=\"retinaface\",\n",
    "    landmark_model=\"mobilefacenet\",\n",
    "    au_model='svm', # or 'xgb' for XGBoost model\n",
    "    emotion_model=\"resmasknet\",\n",
    "    facepose_model=\"img2pose\"\n",
    ")"
   ]
  },
  {
   "cell_type": "code",
   "execution_count": 40,
   "id": "38b8663c",
   "metadata": {},
   "outputs": [
    {
     "name": "stdout",
     "output_type": "stream",
     "text": [
      "Press 'q' to quit.\n"
     ]
    },
    {
     "name": "stderr",
     "output_type": "stream",
     "text": [
      "  0%|          | 0/1 [00:00<?, ?it/s]WARNING:root:Warning: NO FACE is detected\n",
      "100%|██████████| 1/1 [00:01<00:00,  1.36s/it]\n",
      "C:\\Users\\PC\\AppData\\Local\\Temp\\ipykernel_30888\\419020417.py:37: FutureWarning: The behavior of FexSeries.idxmax with all-NA values, or any-NA and skipna=False, is deprecated. In a future version this will raise ValueError\n",
      "  emotion = result.emotions.iloc[0].idxmax() # Emotion with highest score\n"
     ]
    },
    {
     "name": "stdout",
     "output_type": "stream",
     "text": [
      "Detection error: OpenCV(4.12.0) :-1: error: (-5:Bad argument) in function 'putText'\n",
      "> Overload resolution failed:\n",
      ">  - Can't convert object to 'str' for 'text'\n",
      ">  - Can't convert object to 'str' for 'text'\n",
      "\n"
     ]
    },
    {
     "name": "stderr",
     "output_type": "stream",
     "text": [
      "100%|██████████| 1/1 [00:01<00:00,  1.05s/it]\n",
      "100%|██████████| 1/1 [00:01<00:00,  1.01s/it]\n",
      "100%|██████████| 1/1 [00:01<00:00,  1.00s/it]\n",
      "100%|██████████| 1/1 [00:00<00:00,  1.02it/s]\n",
      "100%|██████████| 1/1 [00:01<00:00,  1.02s/it]\n",
      "100%|██████████| 1/1 [00:00<00:00,  1.02it/s]\n",
      "100%|██████████| 1/1 [00:00<00:00,  1.02it/s]\n",
      "100%|██████████| 1/1 [00:00<00:00,  1.02it/s]\n",
      "100%|██████████| 1/1 [00:00<00:00,  1.00it/s]\n",
      "100%|██████████| 1/1 [00:01<00:00,  1.01s/it]\n",
      "100%|██████████| 1/1 [00:01<00:00,  1.00s/it]\n",
      "100%|██████████| 1/1 [00:00<00:00,  1.04it/s]\n",
      "100%|██████████| 1/1 [00:01<00:00,  1.01s/it]\n",
      "100%|██████████| 1/1 [00:00<00:00,  1.01it/s]\n",
      "100%|██████████| 1/1 [00:00<00:00,  1.00it/s]\n",
      "100%|██████████| 1/1 [00:01<00:00,  1.00s/it]\n",
      "100%|██████████| 1/1 [00:00<00:00,  1.02it/s]\n",
      "100%|██████████| 1/1 [00:01<00:00,  1.00s/it]\n",
      "100%|██████████| 1/1 [00:00<00:00,  1.03it/s]\n",
      "100%|██████████| 1/1 [00:00<00:00,  1.01it/s]\n",
      "100%|██████████| 1/1 [00:01<00:00,  1.01s/it]\n",
      "100%|██████████| 1/1 [00:01<00:00,  1.02s/it]\n",
      "100%|██████████| 1/1 [00:00<00:00,  1.01it/s]\n",
      "100%|██████████| 1/1 [00:00<00:00,  1.01it/s]\n",
      "100%|██████████| 1/1 [00:01<00:00,  1.00s/it]\n",
      "100%|██████████| 1/1 [00:00<00:00,  1.01it/s]\n",
      "100%|██████████| 1/1 [00:01<00:00,  1.01s/it]\n",
      "100%|██████████| 1/1 [00:01<00:00,  1.20s/it]\n",
      "100%|██████████| 1/1 [00:00<00:00,  1.01it/s]\n",
      "100%|██████████| 1/1 [00:01<00:00,  1.02s/it]\n",
      "100%|██████████| 1/1 [00:00<00:00,  1.02it/s]\n",
      "100%|██████████| 1/1 [00:00<00:00,  1.02it/s]\n",
      "100%|██████████| 1/1 [00:01<00:00,  1.01s/it]\n",
      "100%|██████████| 1/1 [00:00<00:00,  1.01it/s]\n",
      "100%|██████████| 1/1 [00:01<00:00,  1.04s/it]\n",
      "100%|██████████| 1/1 [00:01<00:00,  1.07s/it]\n",
      "100%|██████████| 1/1 [00:01<00:00,  1.36s/it]\n",
      "100%|██████████| 1/1 [00:01<00:00,  1.07s/it]\n",
      "100%|██████████| 1/1 [00:01<00:00,  1.00s/it]\n",
      "100%|██████████| 1/1 [00:01<00:00,  1.10s/it]\n",
      "100%|██████████| 1/1 [00:01<00:00,  1.04s/it]\n",
      "100%|██████████| 1/1 [00:01<00:00,  1.12s/it]\n",
      "100%|██████████| 1/1 [00:01<00:00,  1.07s/it]\n",
      "100%|██████████| 1/1 [00:01<00:00,  1.06s/it]\n",
      "100%|██████████| 1/1 [00:01<00:00,  1.25s/it]\n",
      "100%|██████████| 1/1 [00:01<00:00,  1.04s/it]\n",
      "100%|██████████| 1/1 [00:01<00:00,  1.01s/it]\n",
      "100%|██████████| 1/1 [00:01<00:00,  1.03s/it]\n",
      "100%|██████████| 1/1 [00:01<00:00,  1.01s/it]\n",
      "100%|██████████| 1/1 [00:01<00:00,  1.02s/it]\n",
      "100%|██████████| 1/1 [00:01<00:00,  1.00s/it]\n",
      "100%|██████████| 1/1 [00:01<00:00,  1.00s/it]\n",
      "100%|██████████| 1/1 [00:01<00:00,  1.02s/it]\n",
      "100%|██████████| 1/1 [00:01<00:00,  1.03s/it]\n",
      "100%|██████████| 1/1 [00:01<00:00,  1.00s/it]\n",
      "100%|██████████| 1/1 [00:00<00:00,  1.00it/s]\n",
      "100%|██████████| 1/1 [00:01<00:00,  1.06s/it]\n",
      "100%|██████████| 1/1 [00:01<00:00,  1.02s/it]\n",
      "100%|██████████| 1/1 [00:01<00:00,  1.05s/it]\n",
      "100%|██████████| 1/1 [00:01<00:00,  1.03s/it]\n",
      "100%|██████████| 1/1 [00:01<00:00,  1.01s/it]\n",
      "100%|██████████| 1/1 [00:01<00:00,  1.01s/it]\n",
      "100%|██████████| 1/1 [00:01<00:00,  1.03s/it]\n",
      "100%|██████████| 1/1 [00:01<00:00,  1.02s/it]\n",
      "100%|██████████| 1/1 [00:01<00:00,  1.10s/it]\n",
      "100%|██████████| 1/1 [00:01<00:00,  1.03s/it]\n",
      "100%|██████████| 1/1 [00:01<00:00,  1.07s/it]\n",
      "100%|██████████| 1/1 [00:01<00:00,  1.06s/it]\n",
      "100%|██████████| 1/1 [00:01<00:00,  1.02s/it]\n",
      "100%|██████████| 1/1 [00:01<00:00,  1.03s/it]\n",
      "100%|██████████| 1/1 [00:01<00:00,  1.09s/it]\n",
      "100%|██████████| 1/1 [00:01<00:00,  1.03s/it]\n",
      "100%|██████████| 1/1 [00:01<00:00,  1.01s/it]\n",
      "100%|██████████| 1/1 [00:01<00:00,  1.08s/it]\n",
      "100%|██████████| 1/1 [00:01<00:00,  1.03s/it]\n",
      "100%|██████████| 1/1 [00:01<00:00,  1.04s/it]\n",
      "100%|██████████| 1/1 [00:01<00:00,  1.03s/it]\n",
      "100%|██████████| 1/1 [00:01<00:00,  1.07s/it]\n",
      "100%|██████████| 1/1 [00:01<00:00,  1.06s/it]\n",
      "100%|██████████| 1/1 [00:01<00:00,  1.04s/it]\n",
      "100%|██████████| 1/1 [00:01<00:00,  1.12s/it]\n",
      "100%|██████████| 1/1 [00:01<00:00,  1.07s/it]\n",
      "100%|██████████| 1/1 [00:01<00:00,  1.03s/it]\n",
      "100%|██████████| 1/1 [00:01<00:00,  1.03s/it]\n",
      "100%|██████████| 1/1 [00:01<00:00,  1.05s/it]\n",
      "100%|██████████| 1/1 [00:01<00:00,  1.01s/it]\n",
      "100%|██████████| 1/1 [00:01<00:00,  1.03s/it]\n",
      "100%|██████████| 1/1 [00:01<00:00,  1.28s/it]\n",
      "100%|██████████| 1/1 [00:01<00:00,  1.05s/it]\n",
      "100%|██████████| 1/1 [00:01<00:00,  1.01s/it]\n",
      "100%|██████████| 1/1 [00:01<00:00,  1.03s/it]\n",
      "100%|██████████| 1/1 [00:01<00:00,  1.01s/it]\n",
      "100%|██████████| 1/1 [00:01<00:00,  1.09s/it]\n",
      "100%|██████████| 1/1 [00:01<00:00,  1.01s/it]\n",
      "100%|██████████| 1/1 [00:01<00:00,  1.01s/it]\n",
      "100%|██████████| 1/1 [00:01<00:00,  1.01s/it]\n",
      "100%|██████████| 1/1 [00:00<00:00,  1.02it/s]\n",
      "100%|██████████| 1/1 [00:00<00:00,  1.00it/s]\n",
      "100%|██████████| 1/1 [00:01<00:00,  1.01s/it]\n",
      "100%|██████████| 1/1 [00:01<00:00,  1.01s/it]\n",
      "100%|██████████| 1/1 [00:01<00:00,  1.03s/it]\n",
      "100%|██████████| 1/1 [00:00<00:00,  1.01it/s]\n",
      "100%|██████████| 1/1 [00:01<00:00,  1.00s/it]\n",
      "100%|██████████| 1/1 [00:01<00:00,  1.01s/it]\n",
      "100%|██████████| 1/1 [00:01<00:00,  1.02s/it]\n",
      "100%|██████████| 1/1 [00:00<00:00,  1.01it/s]\n",
      "100%|██████████| 1/1 [00:01<00:00,  1.01s/it]\n",
      "100%|██████████| 1/1 [00:01<00:00,  1.01s/it]\n",
      "100%|██████████| 1/1 [00:01<00:00,  1.03s/it]\n",
      "100%|██████████| 1/1 [00:01<00:00,  1.00s/it]\n",
      "100%|██████████| 1/1 [00:01<00:00,  1.02s/it]\n",
      "100%|██████████| 1/1 [00:01<00:00,  1.01s/it]\n",
      "100%|██████████| 1/1 [00:01<00:00,  1.11s/it]\n",
      "100%|██████████| 1/1 [00:01<00:00,  1.01s/it]\n",
      "100%|██████████| 1/1 [00:01<00:00,  1.24s/it]\n",
      "100%|██████████| 1/1 [00:00<00:00,  1.02it/s]\n",
      "100%|██████████| 1/1 [00:01<00:00,  1.08s/it]\n",
      "100%|██████████| 1/1 [00:01<00:00,  1.01s/it]\n",
      "100%|██████████| 1/1 [00:01<00:00,  1.05s/it]\n",
      "100%|██████████| 1/1 [00:01<00:00,  1.02s/it]\n",
      "100%|██████████| 1/1 [00:00<00:00,  1.00it/s]\n",
      "100%|██████████| 1/1 [00:01<00:00,  1.04s/it]\n",
      "100%|██████████| 1/1 [00:01<00:00,  1.03s/it]\n",
      "100%|██████████| 1/1 [00:01<00:00,  1.02s/it]\n",
      "100%|██████████| 1/1 [00:01<00:00,  1.01s/it]\n",
      "100%|██████████| 1/1 [00:01<00:00,  1.03s/it]\n",
      "100%|██████████| 1/1 [00:01<00:00,  1.04s/it]\n",
      "100%|██████████| 1/1 [00:01<00:00,  1.02s/it]\n",
      "100%|██████████| 1/1 [00:01<00:00,  1.01s/it]\n",
      "100%|██████████| 1/1 [00:01<00:00,  1.00s/it]\n",
      "100%|██████████| 1/1 [00:01<00:00,  1.01s/it]\n",
      "100%|██████████| 1/1 [00:01<00:00,  1.02s/it]\n",
      "100%|██████████| 1/1 [00:01<00:00,  1.02s/it]\n",
      "100%|██████████| 1/1 [00:01<00:00,  1.01s/it]\n",
      "100%|██████████| 1/1 [00:01<00:00,  1.00s/it]\n",
      "100%|██████████| 1/1 [00:00<00:00,  1.03it/s]\n",
      "100%|██████████| 1/1 [00:01<00:00,  1.01s/it]\n",
      "  0%|          | 0/1 [00:00<?, ?it/s]WARNING:root:Warning: NO FACE is detected\n",
      "100%|██████████| 1/1 [00:00<00:00,  1.28it/s]\n",
      "C:\\Users\\PC\\AppData\\Local\\Temp\\ipykernel_30888\\419020417.py:37: FutureWarning: The behavior of FexSeries.idxmax with all-NA values, or any-NA and skipna=False, is deprecated. In a future version this will raise ValueError\n",
      "  emotion = result.emotions.iloc[0].idxmax() # Emotion with highest score\n"
     ]
    },
    {
     "name": "stdout",
     "output_type": "stream",
     "text": [
      "Detection error: OpenCV(4.12.0) :-1: error: (-5:Bad argument) in function 'putText'\n",
      "> Overload resolution failed:\n",
      ">  - Can't convert object to 'str' for 'text'\n",
      ">  - Can't convert object to 'str' for 'text'\n",
      "\n"
     ]
    },
    {
     "name": "stderr",
     "output_type": "stream",
     "text": [
      "100%|██████████| 1/1 [00:01<00:00,  1.03s/it]\n",
      "100%|██████████| 1/1 [00:01<00:00,  1.00s/it]\n",
      "100%|██████████| 1/1 [00:01<00:00,  1.01s/it]\n",
      "100%|██████████| 1/1 [00:01<00:00,  1.00s/it]\n",
      "100%|██████████| 1/1 [00:01<00:00,  1.01s/it]\n",
      "100%|██████████| 1/1 [00:00<00:00,  1.01it/s]\n",
      "100%|██████████| 1/1 [00:01<00:00,  1.02s/it]\n",
      "  0%|          | 0/1 [00:00<?, ?it/s]WARNING:root:Warning: NO FACE is detected\n",
      "100%|██████████| 1/1 [00:00<00:00,  1.28it/s]\n",
      "C:\\Users\\PC\\AppData\\Local\\Temp\\ipykernel_30888\\419020417.py:37: FutureWarning: The behavior of FexSeries.idxmax with all-NA values, or any-NA and skipna=False, is deprecated. In a future version this will raise ValueError\n",
      "  emotion = result.emotions.iloc[0].idxmax() # Emotion with highest score\n"
     ]
    },
    {
     "name": "stdout",
     "output_type": "stream",
     "text": [
      "Detection error: OpenCV(4.12.0) :-1: error: (-5:Bad argument) in function 'putText'\n",
      "> Overload resolution failed:\n",
      ">  - Can't convert object to 'str' for 'text'\n",
      ">  - Can't convert object to 'str' for 'text'\n",
      "\n"
     ]
    },
    {
     "name": "stderr",
     "output_type": "stream",
     "text": [
      "100%|██████████| 1/1 [00:00<00:00,  1.01it/s]\n",
      "100%|██████████| 1/1 [00:01<00:00,  1.01s/it]\n",
      "100%|██████████| 1/1 [00:00<00:00,  1.00it/s]\n",
      "  0%|          | 0/1 [00:00<?, ?it/s]WARNING:root:Warning: NO FACE is detected\n",
      "100%|██████████| 1/1 [00:01<00:00,  1.36s/it]\n",
      "C:\\Users\\PC\\AppData\\Local\\Temp\\ipykernel_30888\\419020417.py:37: FutureWarning: The behavior of FexSeries.idxmax with all-NA values, or any-NA and skipna=False, is deprecated. In a future version this will raise ValueError\n",
      "  emotion = result.emotions.iloc[0].idxmax() # Emotion with highest score\n"
     ]
    },
    {
     "name": "stdout",
     "output_type": "stream",
     "text": [
      "Detection error: OpenCV(4.12.0) :-1: error: (-5:Bad argument) in function 'putText'\n",
      "> Overload resolution failed:\n",
      ">  - Can't convert object to 'str' for 'text'\n",
      ">  - Can't convert object to 'str' for 'text'\n",
      "\n"
     ]
    },
    {
     "name": "stderr",
     "output_type": "stream",
     "text": [
      "  0%|          | 0/1 [00:00<?, ?it/s]WARNING:root:Warning: NO FACE is detected\n",
      "100%|██████████| 1/1 [00:01<00:00,  1.38s/it]\n",
      "C:\\Users\\PC\\AppData\\Local\\Temp\\ipykernel_30888\\419020417.py:37: FutureWarning: The behavior of FexSeries.idxmax with all-NA values, or any-NA and skipna=False, is deprecated. In a future version this will raise ValueError\n",
      "  emotion = result.emotions.iloc[0].idxmax() # Emotion with highest score\n"
     ]
    },
    {
     "name": "stdout",
     "output_type": "stream",
     "text": [
      "Detection error: OpenCV(4.12.0) :-1: error: (-5:Bad argument) in function 'putText'\n",
      "> Overload resolution failed:\n",
      ">  - Can't convert object to 'str' for 'text'\n",
      ">  - Can't convert object to 'str' for 'text'\n",
      "\n"
     ]
    },
    {
     "name": "stderr",
     "output_type": "stream",
     "text": [
      "  0%|          | 0/1 [00:00<?, ?it/s]WARNING:root:Warning: NO FACE is detected\n",
      "100%|██████████| 1/1 [00:01<00:00,  1.37s/it]\n",
      "C:\\Users\\PC\\AppData\\Local\\Temp\\ipykernel_30888\\419020417.py:37: FutureWarning: The behavior of FexSeries.idxmax with all-NA values, or any-NA and skipna=False, is deprecated. In a future version this will raise ValueError\n",
      "  emotion = result.emotions.iloc[0].idxmax() # Emotion with highest score\n"
     ]
    },
    {
     "name": "stdout",
     "output_type": "stream",
     "text": [
      "Detection error: OpenCV(4.12.0) :-1: error: (-5:Bad argument) in function 'putText'\n",
      "> Overload resolution failed:\n",
      ">  - Can't convert object to 'str' for 'text'\n",
      ">  - Can't convert object to 'str' for 'text'\n",
      "\n"
     ]
    },
    {
     "name": "stderr",
     "output_type": "stream",
     "text": [
      "  0%|          | 0/1 [00:00<?, ?it/s]WARNING:root:Warning: NO FACE is detected\n",
      "100%|██████████| 1/1 [00:01<00:00,  1.37s/it]\n",
      "C:\\Users\\PC\\AppData\\Local\\Temp\\ipykernel_30888\\419020417.py:37: FutureWarning: The behavior of FexSeries.idxmax with all-NA values, or any-NA and skipna=False, is deprecated. In a future version this will raise ValueError\n",
      "  emotion = result.emotions.iloc[0].idxmax() # Emotion with highest score\n"
     ]
    },
    {
     "name": "stdout",
     "output_type": "stream",
     "text": [
      "Detection error: OpenCV(4.12.0) :-1: error: (-5:Bad argument) in function 'putText'\n",
      "> Overload resolution failed:\n",
      ">  - Can't convert object to 'str' for 'text'\n",
      ">  - Can't convert object to 'str' for 'text'\n",
      "\n"
     ]
    },
    {
     "name": "stderr",
     "output_type": "stream",
     "text": [
      "  0%|          | 0/1 [00:00<?, ?it/s]WARNING:root:Warning: NO FACE is detected\n",
      "100%|██████████| 1/1 [00:01<00:00,  1.36s/it]\n",
      "C:\\Users\\PC\\AppData\\Local\\Temp\\ipykernel_30888\\419020417.py:37: FutureWarning: The behavior of FexSeries.idxmax with all-NA values, or any-NA and skipna=False, is deprecated. In a future version this will raise ValueError\n",
      "  emotion = result.emotions.iloc[0].idxmax() # Emotion with highest score\n"
     ]
    },
    {
     "name": "stdout",
     "output_type": "stream",
     "text": [
      "Detection error: OpenCV(4.12.0) :-1: error: (-5:Bad argument) in function 'putText'\n",
      "> Overload resolution failed:\n",
      ">  - Can't convert object to 'str' for 'text'\n",
      ">  - Can't convert object to 'str' for 'text'\n",
      "\n"
     ]
    },
    {
     "name": "stderr",
     "output_type": "stream",
     "text": [
      "  0%|          | 0/1 [00:00<?, ?it/s]WARNING:root:Warning: NO FACE is detected\n",
      "100%|██████████| 1/1 [00:01<00:00,  1.35s/it]\n",
      "C:\\Users\\PC\\AppData\\Local\\Temp\\ipykernel_30888\\419020417.py:37: FutureWarning: The behavior of FexSeries.idxmax with all-NA values, or any-NA and skipna=False, is deprecated. In a future version this will raise ValueError\n",
      "  emotion = result.emotions.iloc[0].idxmax() # Emotion with highest score\n"
     ]
    },
    {
     "name": "stdout",
     "output_type": "stream",
     "text": [
      "Detection error: OpenCV(4.12.0) :-1: error: (-5:Bad argument) in function 'putText'\n",
      "> Overload resolution failed:\n",
      ">  - Can't convert object to 'str' for 'text'\n",
      ">  - Can't convert object to 'str' for 'text'\n",
      "\n"
     ]
    },
    {
     "name": "stderr",
     "output_type": "stream",
     "text": [
      "  0%|          | 0/1 [00:00<?, ?it/s]WARNING:root:Warning: NO FACE is detected\n",
      "100%|██████████| 1/1 [00:01<00:00,  1.34s/it]\n",
      "C:\\Users\\PC\\AppData\\Local\\Temp\\ipykernel_30888\\419020417.py:37: FutureWarning: The behavior of FexSeries.idxmax with all-NA values, or any-NA and skipna=False, is deprecated. In a future version this will raise ValueError\n",
      "  emotion = result.emotions.iloc[0].idxmax() # Emotion with highest score\n"
     ]
    },
    {
     "name": "stdout",
     "output_type": "stream",
     "text": [
      "Detection error: OpenCV(4.12.0) :-1: error: (-5:Bad argument) in function 'putText'\n",
      "> Overload resolution failed:\n",
      ">  - Can't convert object to 'str' for 'text'\n",
      ">  - Can't convert object to 'str' for 'text'\n",
      "\n"
     ]
    },
    {
     "name": "stderr",
     "output_type": "stream",
     "text": [
      "  0%|          | 0/1 [00:00<?, ?it/s]WARNING:root:Warning: NO FACE is detected\n",
      "100%|██████████| 1/1 [00:01<00:00,  1.35s/it]\n",
      "C:\\Users\\PC\\AppData\\Local\\Temp\\ipykernel_30888\\419020417.py:37: FutureWarning: The behavior of FexSeries.idxmax with all-NA values, or any-NA and skipna=False, is deprecated. In a future version this will raise ValueError\n",
      "  emotion = result.emotions.iloc[0].idxmax() # Emotion with highest score\n"
     ]
    },
    {
     "name": "stdout",
     "output_type": "stream",
     "text": [
      "Detection error: OpenCV(4.12.0) :-1: error: (-5:Bad argument) in function 'putText'\n",
      "> Overload resolution failed:\n",
      ">  - Can't convert object to 'str' for 'text'\n",
      ">  - Can't convert object to 'str' for 'text'\n",
      "\n"
     ]
    },
    {
     "name": "stderr",
     "output_type": "stream",
     "text": [
      "  0%|          | 0/1 [00:00<?, ?it/s]WARNING:root:Warning: NO FACE is detected\n",
      "100%|██████████| 1/1 [00:01<00:00,  1.37s/it]\n",
      "C:\\Users\\PC\\AppData\\Local\\Temp\\ipykernel_30888\\419020417.py:37: FutureWarning: The behavior of FexSeries.idxmax with all-NA values, or any-NA and skipna=False, is deprecated. In a future version this will raise ValueError\n",
      "  emotion = result.emotions.iloc[0].idxmax() # Emotion with highest score\n"
     ]
    },
    {
     "name": "stdout",
     "output_type": "stream",
     "text": [
      "Detection error: OpenCV(4.12.0) :-1: error: (-5:Bad argument) in function 'putText'\n",
      "> Overload resolution failed:\n",
      ">  - Can't convert object to 'str' for 'text'\n",
      ">  - Can't convert object to 'str' for 'text'\n",
      "\n"
     ]
    },
    {
     "name": "stderr",
     "output_type": "stream",
     "text": [
      "  0%|          | 0/1 [00:00<?, ?it/s]WARNING:root:Warning: NO FACE is detected\n",
      "100%|██████████| 1/1 [00:01<00:00,  1.37s/it]\n",
      "C:\\Users\\PC\\AppData\\Local\\Temp\\ipykernel_30888\\419020417.py:37: FutureWarning: The behavior of FexSeries.idxmax with all-NA values, or any-NA and skipna=False, is deprecated. In a future version this will raise ValueError\n",
      "  emotion = result.emotions.iloc[0].idxmax() # Emotion with highest score\n"
     ]
    },
    {
     "name": "stdout",
     "output_type": "stream",
     "text": [
      "Detection error: OpenCV(4.12.0) :-1: error: (-5:Bad argument) in function 'putText'\n",
      "> Overload resolution failed:\n",
      ">  - Can't convert object to 'str' for 'text'\n",
      ">  - Can't convert object to 'str' for 'text'\n",
      "\n"
     ]
    },
    {
     "name": "stderr",
     "output_type": "stream",
     "text": [
      "  0%|          | 0/1 [00:00<?, ?it/s]WARNING:root:Warning: NO FACE is detected\n",
      "100%|██████████| 1/1 [00:01<00:00,  1.38s/it]\n",
      "C:\\Users\\PC\\AppData\\Local\\Temp\\ipykernel_30888\\419020417.py:37: FutureWarning: The behavior of FexSeries.idxmax with all-NA values, or any-NA and skipna=False, is deprecated. In a future version this will raise ValueError\n",
      "  emotion = result.emotions.iloc[0].idxmax() # Emotion with highest score\n"
     ]
    },
    {
     "name": "stdout",
     "output_type": "stream",
     "text": [
      "Detection error: OpenCV(4.12.0) :-1: error: (-5:Bad argument) in function 'putText'\n",
      "> Overload resolution failed:\n",
      ">  - Can't convert object to 'str' for 'text'\n",
      ">  - Can't convert object to 'str' for 'text'\n",
      "\n"
     ]
    },
    {
     "name": "stderr",
     "output_type": "stream",
     "text": [
      "  0%|          | 0/1 [00:00<?, ?it/s]WARNING:root:Warning: NO FACE is detected\n",
      "100%|██████████| 1/1 [00:01<00:00,  1.45s/it]\n",
      "C:\\Users\\PC\\AppData\\Local\\Temp\\ipykernel_30888\\419020417.py:37: FutureWarning: The behavior of FexSeries.idxmax with all-NA values, or any-NA and skipna=False, is deprecated. In a future version this will raise ValueError\n",
      "  emotion = result.emotions.iloc[0].idxmax() # Emotion with highest score\n"
     ]
    },
    {
     "name": "stdout",
     "output_type": "stream",
     "text": [
      "Detection error: OpenCV(4.12.0) :-1: error: (-5:Bad argument) in function 'putText'\n",
      "> Overload resolution failed:\n",
      ">  - Can't convert object to 'str' for 'text'\n",
      ">  - Can't convert object to 'str' for 'text'\n",
      "\n"
     ]
    },
    {
     "name": "stderr",
     "output_type": "stream",
     "text": [
      "  0%|          | 0/1 [00:00<?, ?it/s]WARNING:root:Warning: NO FACE is detected\n",
      "100%|██████████| 1/1 [00:01<00:00,  1.37s/it]\n",
      "C:\\Users\\PC\\AppData\\Local\\Temp\\ipykernel_30888\\419020417.py:37: FutureWarning: The behavior of FexSeries.idxmax with all-NA values, or any-NA and skipna=False, is deprecated. In a future version this will raise ValueError\n",
      "  emotion = result.emotions.iloc[0].idxmax() # Emotion with highest score\n"
     ]
    },
    {
     "name": "stdout",
     "output_type": "stream",
     "text": [
      "Detection error: OpenCV(4.12.0) :-1: error: (-5:Bad argument) in function 'putText'\n",
      "> Overload resolution failed:\n",
      ">  - Can't convert object to 'str' for 'text'\n",
      ">  - Can't convert object to 'str' for 'text'\n",
      "\n"
     ]
    },
    {
     "name": "stderr",
     "output_type": "stream",
     "text": [
      "  0%|          | 0/1 [00:00<?, ?it/s]WARNING:root:Warning: NO FACE is detected\n",
      "100%|██████████| 1/1 [00:01<00:00,  1.60s/it]\n",
      "C:\\Users\\PC\\AppData\\Local\\Temp\\ipykernel_30888\\419020417.py:37: FutureWarning: The behavior of FexSeries.idxmax with all-NA values, or any-NA and skipna=False, is deprecated. In a future version this will raise ValueError\n",
      "  emotion = result.emotions.iloc[0].idxmax() # Emotion with highest score\n"
     ]
    },
    {
     "name": "stdout",
     "output_type": "stream",
     "text": [
      "Detection error: OpenCV(4.12.0) :-1: error: (-5:Bad argument) in function 'putText'\n",
      "> Overload resolution failed:\n",
      ">  - Can't convert object to 'str' for 'text'\n",
      ">  - Can't convert object to 'str' for 'text'\n",
      "\n"
     ]
    },
    {
     "name": "stderr",
     "output_type": "stream",
     "text": [
      "  0%|          | 0/1 [00:00<?, ?it/s]WARNING:root:Warning: NO FACE is detected\n",
      "100%|██████████| 1/1 [00:01<00:00,  1.44s/it]\n",
      "C:\\Users\\PC\\AppData\\Local\\Temp\\ipykernel_30888\\419020417.py:37: FutureWarning: The behavior of FexSeries.idxmax with all-NA values, or any-NA and skipna=False, is deprecated. In a future version this will raise ValueError\n",
      "  emotion = result.emotions.iloc[0].idxmax() # Emotion with highest score\n"
     ]
    },
    {
     "name": "stdout",
     "output_type": "stream",
     "text": [
      "Detection error: OpenCV(4.12.0) :-1: error: (-5:Bad argument) in function 'putText'\n",
      "> Overload resolution failed:\n",
      ">  - Can't convert object to 'str' for 'text'\n",
      ">  - Can't convert object to 'str' for 'text'\n",
      "\n"
     ]
    },
    {
     "name": "stderr",
     "output_type": "stream",
     "text": [
      "  0%|          | 0/1 [00:00<?, ?it/s]WARNING:root:Warning: NO FACE is detected\n",
      "100%|██████████| 1/1 [00:01<00:00,  1.38s/it]\n",
      "C:\\Users\\PC\\AppData\\Local\\Temp\\ipykernel_30888\\419020417.py:37: FutureWarning: The behavior of FexSeries.idxmax with all-NA values, or any-NA and skipna=False, is deprecated. In a future version this will raise ValueError\n",
      "  emotion = result.emotions.iloc[0].idxmax() # Emotion with highest score\n"
     ]
    },
    {
     "name": "stdout",
     "output_type": "stream",
     "text": [
      "Detection error: OpenCV(4.12.0) :-1: error: (-5:Bad argument) in function 'putText'\n",
      "> Overload resolution failed:\n",
      ">  - Can't convert object to 'str' for 'text'\n",
      ">  - Can't convert object to 'str' for 'text'\n",
      "\n"
     ]
    },
    {
     "name": "stderr",
     "output_type": "stream",
     "text": [
      "  0%|          | 0/1 [00:00<?, ?it/s]WARNING:root:Warning: NO FACE is detected\n",
      "100%|██████████| 1/1 [00:01<00:00,  1.38s/it]\n",
      "C:\\Users\\PC\\AppData\\Local\\Temp\\ipykernel_30888\\419020417.py:37: FutureWarning: The behavior of FexSeries.idxmax with all-NA values, or any-NA and skipna=False, is deprecated. In a future version this will raise ValueError\n",
      "  emotion = result.emotions.iloc[0].idxmax() # Emotion with highest score\n"
     ]
    },
    {
     "name": "stdout",
     "output_type": "stream",
     "text": [
      "Detection error: OpenCV(4.12.0) :-1: error: (-5:Bad argument) in function 'putText'\n",
      "> Overload resolution failed:\n",
      ">  - Can't convert object to 'str' for 'text'\n",
      ">  - Can't convert object to 'str' for 'text'\n",
      "\n"
     ]
    },
    {
     "name": "stderr",
     "output_type": "stream",
     "text": [
      "  0%|          | 0/1 [00:00<?, ?it/s]WARNING:root:Warning: NO FACE is detected\n",
      "100%|██████████| 1/1 [00:01<00:00,  1.38s/it]\n",
      "C:\\Users\\PC\\AppData\\Local\\Temp\\ipykernel_30888\\419020417.py:37: FutureWarning: The behavior of FexSeries.idxmax with all-NA values, or any-NA and skipna=False, is deprecated. In a future version this will raise ValueError\n",
      "  emotion = result.emotions.iloc[0].idxmax() # Emotion with highest score\n"
     ]
    },
    {
     "name": "stdout",
     "output_type": "stream",
     "text": [
      "Detection error: OpenCV(4.12.0) :-1: error: (-5:Bad argument) in function 'putText'\n",
      "> Overload resolution failed:\n",
      ">  - Can't convert object to 'str' for 'text'\n",
      ">  - Can't convert object to 'str' for 'text'\n",
      "\n"
     ]
    },
    {
     "name": "stderr",
     "output_type": "stream",
     "text": [
      "  0%|          | 0/1 [00:00<?, ?it/s]WARNING:root:Warning: NO FACE is detected\n",
      "100%|██████████| 1/1 [00:01<00:00,  1.36s/it]\n",
      "C:\\Users\\PC\\AppData\\Local\\Temp\\ipykernel_30888\\419020417.py:37: FutureWarning: The behavior of FexSeries.idxmax with all-NA values, or any-NA and skipna=False, is deprecated. In a future version this will raise ValueError\n",
      "  emotion = result.emotions.iloc[0].idxmax() # Emotion with highest score\n"
     ]
    },
    {
     "name": "stdout",
     "output_type": "stream",
     "text": [
      "Detection error: OpenCV(4.12.0) :-1: error: (-5:Bad argument) in function 'putText'\n",
      "> Overload resolution failed:\n",
      ">  - Can't convert object to 'str' for 'text'\n",
      ">  - Can't convert object to 'str' for 'text'\n",
      "\n"
     ]
    },
    {
     "name": "stderr",
     "output_type": "stream",
     "text": [
      "  0%|          | 0/1 [00:00<?, ?it/s]WARNING:root:Warning: NO FACE is detected\n",
      "100%|██████████| 1/1 [00:01<00:00,  1.39s/it]\n",
      "C:\\Users\\PC\\AppData\\Local\\Temp\\ipykernel_30888\\419020417.py:37: FutureWarning: The behavior of FexSeries.idxmax with all-NA values, or any-NA and skipna=False, is deprecated. In a future version this will raise ValueError\n",
      "  emotion = result.emotions.iloc[0].idxmax() # Emotion with highest score\n"
     ]
    },
    {
     "name": "stdout",
     "output_type": "stream",
     "text": [
      "Detection error: OpenCV(4.12.0) :-1: error: (-5:Bad argument) in function 'putText'\n",
      "> Overload resolution failed:\n",
      ">  - Can't convert object to 'str' for 'text'\n",
      ">  - Can't convert object to 'str' for 'text'\n",
      "\n"
     ]
    },
    {
     "name": "stderr",
     "output_type": "stream",
     "text": [
      "  0%|          | 0/1 [00:00<?, ?it/s]WARNING:root:Warning: NO FACE is detected\n",
      "100%|██████████| 1/1 [00:01<00:00,  1.59s/it]\n",
      "C:\\Users\\PC\\AppData\\Local\\Temp\\ipykernel_30888\\419020417.py:37: FutureWarning: The behavior of FexSeries.idxmax with all-NA values, or any-NA and skipna=False, is deprecated. In a future version this will raise ValueError\n",
      "  emotion = result.emotions.iloc[0].idxmax() # Emotion with highest score\n"
     ]
    },
    {
     "name": "stdout",
     "output_type": "stream",
     "text": [
      "Detection error: OpenCV(4.12.0) :-1: error: (-5:Bad argument) in function 'putText'\n",
      "> Overload resolution failed:\n",
      ">  - Can't convert object to 'str' for 'text'\n",
      ">  - Can't convert object to 'str' for 'text'\n",
      "\n"
     ]
    },
    {
     "name": "stderr",
     "output_type": "stream",
     "text": [
      "  0%|          | 0/1 [00:00<?, ?it/s]WARNING:root:Warning: NO FACE is detected\n",
      "100%|██████████| 1/1 [00:01<00:00,  1.39s/it]\n",
      "C:\\Users\\PC\\AppData\\Local\\Temp\\ipykernel_30888\\419020417.py:37: FutureWarning: The behavior of FexSeries.idxmax with all-NA values, or any-NA and skipna=False, is deprecated. In a future version this will raise ValueError\n",
      "  emotion = result.emotions.iloc[0].idxmax() # Emotion with highest score\n"
     ]
    },
    {
     "name": "stdout",
     "output_type": "stream",
     "text": [
      "Detection error: OpenCV(4.12.0) :-1: error: (-5:Bad argument) in function 'putText'\n",
      "> Overload resolution failed:\n",
      ">  - Can't convert object to 'str' for 'text'\n",
      ">  - Can't convert object to 'str' for 'text'\n",
      "\n"
     ]
    },
    {
     "name": "stderr",
     "output_type": "stream",
     "text": [
      "  0%|          | 0/1 [00:00<?, ?it/s]WARNING:root:Warning: NO FACE is detected\n",
      "100%|██████████| 1/1 [00:01<00:00,  1.38s/it]\n",
      "C:\\Users\\PC\\AppData\\Local\\Temp\\ipykernel_30888\\419020417.py:37: FutureWarning: The behavior of FexSeries.idxmax with all-NA values, or any-NA and skipna=False, is deprecated. In a future version this will raise ValueError\n",
      "  emotion = result.emotions.iloc[0].idxmax() # Emotion with highest score\n"
     ]
    },
    {
     "name": "stdout",
     "output_type": "stream",
     "text": [
      "Detection error: OpenCV(4.12.0) :-1: error: (-5:Bad argument) in function 'putText'\n",
      "> Overload resolution failed:\n",
      ">  - Can't convert object to 'str' for 'text'\n",
      ">  - Can't convert object to 'str' for 'text'\n",
      "\n"
     ]
    },
    {
     "name": "stderr",
     "output_type": "stream",
     "text": [
      "  0%|          | 0/1 [00:00<?, ?it/s]WARNING:root:Warning: NO FACE is detected\n",
      "100%|██████████| 1/1 [00:01<00:00,  1.36s/it]\n",
      "C:\\Users\\PC\\AppData\\Local\\Temp\\ipykernel_30888\\419020417.py:37: FutureWarning: The behavior of FexSeries.idxmax with all-NA values, or any-NA and skipna=False, is deprecated. In a future version this will raise ValueError\n",
      "  emotion = result.emotions.iloc[0].idxmax() # Emotion with highest score\n"
     ]
    },
    {
     "name": "stdout",
     "output_type": "stream",
     "text": [
      "Detection error: OpenCV(4.12.0) :-1: error: (-5:Bad argument) in function 'putText'\n",
      "> Overload resolution failed:\n",
      ">  - Can't convert object to 'str' for 'text'\n",
      ">  - Can't convert object to 'str' for 'text'\n",
      "\n"
     ]
    },
    {
     "name": "stderr",
     "output_type": "stream",
     "text": [
      "  0%|          | 0/1 [00:00<?, ?it/s]WARNING:root:Warning: NO FACE is detected\n",
      "100%|██████████| 1/1 [00:01<00:00,  1.36s/it]\n",
      "C:\\Users\\PC\\AppData\\Local\\Temp\\ipykernel_30888\\419020417.py:37: FutureWarning: The behavior of FexSeries.idxmax with all-NA values, or any-NA and skipna=False, is deprecated. In a future version this will raise ValueError\n",
      "  emotion = result.emotions.iloc[0].idxmax() # Emotion with highest score\n"
     ]
    },
    {
     "name": "stdout",
     "output_type": "stream",
     "text": [
      "Detection error: OpenCV(4.12.0) :-1: error: (-5:Bad argument) in function 'putText'\n",
      "> Overload resolution failed:\n",
      ">  - Can't convert object to 'str' for 'text'\n",
      ">  - Can't convert object to 'str' for 'text'\n",
      "\n"
     ]
    },
    {
     "name": "stderr",
     "output_type": "stream",
     "text": [
      "  0%|          | 0/1 [00:00<?, ?it/s]WARNING:root:Warning: NO FACE is detected\n",
      "100%|██████████| 1/1 [00:01<00:00,  1.37s/it]\n",
      "C:\\Users\\PC\\AppData\\Local\\Temp\\ipykernel_30888\\419020417.py:37: FutureWarning: The behavior of FexSeries.idxmax with all-NA values, or any-NA and skipna=False, is deprecated. In a future version this will raise ValueError\n",
      "  emotion = result.emotions.iloc[0].idxmax() # Emotion with highest score\n"
     ]
    },
    {
     "name": "stdout",
     "output_type": "stream",
     "text": [
      "Detection error: OpenCV(4.12.0) :-1: error: (-5:Bad argument) in function 'putText'\n",
      "> Overload resolution failed:\n",
      ">  - Can't convert object to 'str' for 'text'\n",
      ">  - Can't convert object to 'str' for 'text'\n",
      "\n"
     ]
    },
    {
     "name": "stderr",
     "output_type": "stream",
     "text": [
      "  0%|          | 0/1 [00:00<?, ?it/s]WARNING:root:Warning: NO FACE is detected\n",
      "100%|██████████| 1/1 [00:01<00:00,  1.39s/it]\n",
      "C:\\Users\\PC\\AppData\\Local\\Temp\\ipykernel_30888\\419020417.py:37: FutureWarning: The behavior of FexSeries.idxmax with all-NA values, or any-NA and skipna=False, is deprecated. In a future version this will raise ValueError\n",
      "  emotion = result.emotions.iloc[0].idxmax() # Emotion with highest score\n"
     ]
    },
    {
     "name": "stdout",
     "output_type": "stream",
     "text": [
      "Detection error: OpenCV(4.12.0) :-1: error: (-5:Bad argument) in function 'putText'\n",
      "> Overload resolution failed:\n",
      ">  - Can't convert object to 'str' for 'text'\n",
      ">  - Can't convert object to 'str' for 'text'\n",
      "\n"
     ]
    },
    {
     "name": "stderr",
     "output_type": "stream",
     "text": [
      "  0%|          | 0/1 [00:00<?, ?it/s]WARNING:root:Warning: NO FACE is detected\n",
      "100%|██████████| 1/1 [00:01<00:00,  1.64s/it]\n",
      "C:\\Users\\PC\\AppData\\Local\\Temp\\ipykernel_30888\\419020417.py:37: FutureWarning: The behavior of FexSeries.idxmax with all-NA values, or any-NA and skipna=False, is deprecated. In a future version this will raise ValueError\n",
      "  emotion = result.emotions.iloc[0].idxmax() # Emotion with highest score\n"
     ]
    },
    {
     "name": "stdout",
     "output_type": "stream",
     "text": [
      "Detection error: OpenCV(4.12.0) :-1: error: (-5:Bad argument) in function 'putText'\n",
      "> Overload resolution failed:\n",
      ">  - Can't convert object to 'str' for 'text'\n",
      ">  - Can't convert object to 'str' for 'text'\n",
      "\n"
     ]
    },
    {
     "name": "stderr",
     "output_type": "stream",
     "text": [
      "  0%|          | 0/1 [00:00<?, ?it/s]WARNING:root:Warning: NO FACE is detected\n",
      "100%|██████████| 1/1 [00:01<00:00,  1.37s/it]\n",
      "C:\\Users\\PC\\AppData\\Local\\Temp\\ipykernel_30888\\419020417.py:37: FutureWarning: The behavior of FexSeries.idxmax with all-NA values, or any-NA and skipna=False, is deprecated. In a future version this will raise ValueError\n",
      "  emotion = result.emotions.iloc[0].idxmax() # Emotion with highest score\n"
     ]
    },
    {
     "name": "stdout",
     "output_type": "stream",
     "text": [
      "Detection error: OpenCV(4.12.0) :-1: error: (-5:Bad argument) in function 'putText'\n",
      "> Overload resolution failed:\n",
      ">  - Can't convert object to 'str' for 'text'\n",
      ">  - Can't convert object to 'str' for 'text'\n",
      "\n"
     ]
    },
    {
     "name": "stderr",
     "output_type": "stream",
     "text": [
      "  0%|          | 0/1 [00:00<?, ?it/s]WARNING:root:Warning: NO FACE is detected\n",
      "100%|██████████| 1/1 [00:01<00:00,  1.36s/it]\n",
      "C:\\Users\\PC\\AppData\\Local\\Temp\\ipykernel_30888\\419020417.py:37: FutureWarning: The behavior of FexSeries.idxmax with all-NA values, or any-NA and skipna=False, is deprecated. In a future version this will raise ValueError\n",
      "  emotion = result.emotions.iloc[0].idxmax() # Emotion with highest score\n"
     ]
    },
    {
     "name": "stdout",
     "output_type": "stream",
     "text": [
      "Detection error: OpenCV(4.12.0) :-1: error: (-5:Bad argument) in function 'putText'\n",
      "> Overload resolution failed:\n",
      ">  - Can't convert object to 'str' for 'text'\n",
      ">  - Can't convert object to 'str' for 'text'\n",
      "\n"
     ]
    },
    {
     "name": "stderr",
     "output_type": "stream",
     "text": [
      "  0%|          | 0/1 [00:00<?, ?it/s]WARNING:root:Warning: NO FACE is detected\n",
      "100%|██████████| 1/1 [00:01<00:00,  1.39s/it]\n",
      "C:\\Users\\PC\\AppData\\Local\\Temp\\ipykernel_30888\\419020417.py:37: FutureWarning: The behavior of FexSeries.idxmax with all-NA values, or any-NA and skipna=False, is deprecated. In a future version this will raise ValueError\n",
      "  emotion = result.emotions.iloc[0].idxmax() # Emotion with highest score\n"
     ]
    },
    {
     "name": "stdout",
     "output_type": "stream",
     "text": [
      "Detection error: OpenCV(4.12.0) :-1: error: (-5:Bad argument) in function 'putText'\n",
      "> Overload resolution failed:\n",
      ">  - Can't convert object to 'str' for 'text'\n",
      ">  - Can't convert object to 'str' for 'text'\n",
      "\n"
     ]
    },
    {
     "name": "stderr",
     "output_type": "stream",
     "text": [
      "  0%|          | 0/1 [00:00<?, ?it/s]WARNING:root:Warning: NO FACE is detected\n",
      "100%|██████████| 1/1 [00:01<00:00,  1.35s/it]\n",
      "C:\\Users\\PC\\AppData\\Local\\Temp\\ipykernel_30888\\419020417.py:37: FutureWarning: The behavior of FexSeries.idxmax with all-NA values, or any-NA and skipna=False, is deprecated. In a future version this will raise ValueError\n",
      "  emotion = result.emotions.iloc[0].idxmax() # Emotion with highest score\n"
     ]
    },
    {
     "name": "stdout",
     "output_type": "stream",
     "text": [
      "Detection error: OpenCV(4.12.0) :-1: error: (-5:Bad argument) in function 'putText'\n",
      "> Overload resolution failed:\n",
      ">  - Can't convert object to 'str' for 'text'\n",
      ">  - Can't convert object to 'str' for 'text'\n",
      "\n"
     ]
    },
    {
     "name": "stderr",
     "output_type": "stream",
     "text": [
      "  0%|          | 0/1 [00:00<?, ?it/s]WARNING:root:Warning: NO FACE is detected\n",
      "100%|██████████| 1/1 [00:01<00:00,  1.38s/it]\n",
      "C:\\Users\\PC\\AppData\\Local\\Temp\\ipykernel_30888\\419020417.py:37: FutureWarning: The behavior of FexSeries.idxmax with all-NA values, or any-NA and skipna=False, is deprecated. In a future version this will raise ValueError\n",
      "  emotion = result.emotions.iloc[0].idxmax() # Emotion with highest score\n"
     ]
    },
    {
     "name": "stdout",
     "output_type": "stream",
     "text": [
      "Detection error: OpenCV(4.12.0) :-1: error: (-5:Bad argument) in function 'putText'\n",
      "> Overload resolution failed:\n",
      ">  - Can't convert object to 'str' for 'text'\n",
      ">  - Can't convert object to 'str' for 'text'\n",
      "\n"
     ]
    },
    {
     "name": "stderr",
     "output_type": "stream",
     "text": [
      "  0%|          | 0/1 [00:00<?, ?it/s]WARNING:root:Warning: NO FACE is detected\n",
      "100%|██████████| 1/1 [00:01<00:00,  1.38s/it]\n",
      "C:\\Users\\PC\\AppData\\Local\\Temp\\ipykernel_30888\\419020417.py:37: FutureWarning: The behavior of FexSeries.idxmax with all-NA values, or any-NA and skipna=False, is deprecated. In a future version this will raise ValueError\n",
      "  emotion = result.emotions.iloc[0].idxmax() # Emotion with highest score\n"
     ]
    },
    {
     "name": "stdout",
     "output_type": "stream",
     "text": [
      "Detection error: OpenCV(4.12.0) :-1: error: (-5:Bad argument) in function 'putText'\n",
      "> Overload resolution failed:\n",
      ">  - Can't convert object to 'str' for 'text'\n",
      ">  - Can't convert object to 'str' for 'text'\n",
      "\n"
     ]
    },
    {
     "name": "stderr",
     "output_type": "stream",
     "text": [
      "  0%|          | 0/1 [00:00<?, ?it/s]WARNING:root:Warning: NO FACE is detected\n",
      "100%|██████████| 1/1 [00:01<00:00,  1.39s/it]\n",
      "C:\\Users\\PC\\AppData\\Local\\Temp\\ipykernel_30888\\419020417.py:37: FutureWarning: The behavior of FexSeries.idxmax with all-NA values, or any-NA and skipna=False, is deprecated. In a future version this will raise ValueError\n",
      "  emotion = result.emotions.iloc[0].idxmax() # Emotion with highest score\n"
     ]
    },
    {
     "name": "stdout",
     "output_type": "stream",
     "text": [
      "Detection error: OpenCV(4.12.0) :-1: error: (-5:Bad argument) in function 'putText'\n",
      "> Overload resolution failed:\n",
      ">  - Can't convert object to 'str' for 'text'\n",
      ">  - Can't convert object to 'str' for 'text'\n",
      "\n"
     ]
    },
    {
     "name": "stderr",
     "output_type": "stream",
     "text": [
      "  0%|          | 0/1 [00:00<?, ?it/s]WARNING:root:Warning: NO FACE is detected\n",
      "100%|██████████| 1/1 [00:01<00:00,  1.36s/it]\n",
      "C:\\Users\\PC\\AppData\\Local\\Temp\\ipykernel_30888\\419020417.py:37: FutureWarning: The behavior of FexSeries.idxmax with all-NA values, or any-NA and skipna=False, is deprecated. In a future version this will raise ValueError\n",
      "  emotion = result.emotions.iloc[0].idxmax() # Emotion with highest score\n"
     ]
    },
    {
     "name": "stdout",
     "output_type": "stream",
     "text": [
      "Detection error: OpenCV(4.12.0) :-1: error: (-5:Bad argument) in function 'putText'\n",
      "> Overload resolution failed:\n",
      ">  - Can't convert object to 'str' for 'text'\n",
      ">  - Can't convert object to 'str' for 'text'\n",
      "\n"
     ]
    },
    {
     "name": "stderr",
     "output_type": "stream",
     "text": [
      "  0%|          | 0/1 [00:00<?, ?it/s]WARNING:root:Warning: NO FACE is detected\n",
      "100%|██████████| 1/1 [00:01<00:00,  1.39s/it]\n",
      "C:\\Users\\PC\\AppData\\Local\\Temp\\ipykernel_30888\\419020417.py:37: FutureWarning: The behavior of FexSeries.idxmax with all-NA values, or any-NA and skipna=False, is deprecated. In a future version this will raise ValueError\n",
      "  emotion = result.emotions.iloc[0].idxmax() # Emotion with highest score\n"
     ]
    },
    {
     "name": "stdout",
     "output_type": "stream",
     "text": [
      "Detection error: OpenCV(4.12.0) :-1: error: (-5:Bad argument) in function 'putText'\n",
      "> Overload resolution failed:\n",
      ">  - Can't convert object to 'str' for 'text'\n",
      ">  - Can't convert object to 'str' for 'text'\n",
      "\n"
     ]
    },
    {
     "name": "stderr",
     "output_type": "stream",
     "text": [
      "  0%|          | 0/1 [00:00<?, ?it/s]WARNING:root:Warning: NO FACE is detected\n",
      "100%|██████████| 1/1 [00:01<00:00,  1.38s/it]\n",
      "C:\\Users\\PC\\AppData\\Local\\Temp\\ipykernel_30888\\419020417.py:37: FutureWarning: The behavior of FexSeries.idxmax with all-NA values, or any-NA and skipna=False, is deprecated. In a future version this will raise ValueError\n",
      "  emotion = result.emotions.iloc[0].idxmax() # Emotion with highest score\n"
     ]
    },
    {
     "name": "stdout",
     "output_type": "stream",
     "text": [
      "Detection error: OpenCV(4.12.0) :-1: error: (-5:Bad argument) in function 'putText'\n",
      "> Overload resolution failed:\n",
      ">  - Can't convert object to 'str' for 'text'\n",
      ">  - Can't convert object to 'str' for 'text'\n",
      "\n"
     ]
    },
    {
     "name": "stderr",
     "output_type": "stream",
     "text": [
      "  0%|          | 0/1 [00:00<?, ?it/s]WARNING:root:Warning: NO FACE is detected\n",
      "100%|██████████| 1/1 [00:01<00:00,  1.41s/it]\n",
      "C:\\Users\\PC\\AppData\\Local\\Temp\\ipykernel_30888\\419020417.py:37: FutureWarning: The behavior of FexSeries.idxmax with all-NA values, or any-NA and skipna=False, is deprecated. In a future version this will raise ValueError\n",
      "  emotion = result.emotions.iloc[0].idxmax() # Emotion with highest score\n"
     ]
    },
    {
     "name": "stdout",
     "output_type": "stream",
     "text": [
      "Detection error: OpenCV(4.12.0) :-1: error: (-5:Bad argument) in function 'putText'\n",
      "> Overload resolution failed:\n",
      ">  - Can't convert object to 'str' for 'text'\n",
      ">  - Can't convert object to 'str' for 'text'\n",
      "\n"
     ]
    },
    {
     "name": "stderr",
     "output_type": "stream",
     "text": [
      "  0%|          | 0/1 [00:00<?, ?it/s]WARNING:root:Warning: NO FACE is detected\n",
      "100%|██████████| 1/1 [00:01<00:00,  1.38s/it]\n",
      "C:\\Users\\PC\\AppData\\Local\\Temp\\ipykernel_30888\\419020417.py:37: FutureWarning: The behavior of FexSeries.idxmax with all-NA values, or any-NA and skipna=False, is deprecated. In a future version this will raise ValueError\n",
      "  emotion = result.emotions.iloc[0].idxmax() # Emotion with highest score\n"
     ]
    },
    {
     "name": "stdout",
     "output_type": "stream",
     "text": [
      "Detection error: OpenCV(4.12.0) :-1: error: (-5:Bad argument) in function 'putText'\n",
      "> Overload resolution failed:\n",
      ">  - Can't convert object to 'str' for 'text'\n",
      ">  - Can't convert object to 'str' for 'text'\n",
      "\n"
     ]
    },
    {
     "name": "stderr",
     "output_type": "stream",
     "text": [
      "  0%|          | 0/1 [00:00<?, ?it/s]WARNING:root:Warning: NO FACE is detected\n",
      "100%|██████████| 1/1 [00:01<00:00,  1.40s/it]\n",
      "C:\\Users\\PC\\AppData\\Local\\Temp\\ipykernel_30888\\419020417.py:37: FutureWarning: The behavior of FexSeries.idxmax with all-NA values, or any-NA and skipna=False, is deprecated. In a future version this will raise ValueError\n",
      "  emotion = result.emotions.iloc[0].idxmax() # Emotion with highest score\n"
     ]
    },
    {
     "name": "stdout",
     "output_type": "stream",
     "text": [
      "Detection error: OpenCV(4.12.0) :-1: error: (-5:Bad argument) in function 'putText'\n",
      "> Overload resolution failed:\n",
      ">  - Can't convert object to 'str' for 'text'\n",
      ">  - Can't convert object to 'str' for 'text'\n",
      "\n"
     ]
    },
    {
     "name": "stderr",
     "output_type": "stream",
     "text": [
      "  0%|          | 0/1 [00:00<?, ?it/s]WARNING:root:Warning: NO FACE is detected\n",
      "100%|██████████| 1/1 [00:01<00:00,  1.37s/it]\n",
      "C:\\Users\\PC\\AppData\\Local\\Temp\\ipykernel_30888\\419020417.py:37: FutureWarning: The behavior of FexSeries.idxmax with all-NA values, or any-NA and skipna=False, is deprecated. In a future version this will raise ValueError\n",
      "  emotion = result.emotions.iloc[0].idxmax() # Emotion with highest score\n"
     ]
    },
    {
     "name": "stdout",
     "output_type": "stream",
     "text": [
      "Detection error: OpenCV(4.12.0) :-1: error: (-5:Bad argument) in function 'putText'\n",
      "> Overload resolution failed:\n",
      ">  - Can't convert object to 'str' for 'text'\n",
      ">  - Can't convert object to 'str' for 'text'\n",
      "\n"
     ]
    },
    {
     "name": "stderr",
     "output_type": "stream",
     "text": [
      "  0%|          | 0/1 [00:00<?, ?it/s]WARNING:root:Warning: NO FACE is detected\n",
      "100%|██████████| 1/1 [00:01<00:00,  1.37s/it]\n",
      "C:\\Users\\PC\\AppData\\Local\\Temp\\ipykernel_30888\\419020417.py:37: FutureWarning: The behavior of FexSeries.idxmax with all-NA values, or any-NA and skipna=False, is deprecated. In a future version this will raise ValueError\n",
      "  emotion = result.emotions.iloc[0].idxmax() # Emotion with highest score\n"
     ]
    },
    {
     "name": "stdout",
     "output_type": "stream",
     "text": [
      "Detection error: OpenCV(4.12.0) :-1: error: (-5:Bad argument) in function 'putText'\n",
      "> Overload resolution failed:\n",
      ">  - Can't convert object to 'str' for 'text'\n",
      ">  - Can't convert object to 'str' for 'text'\n",
      "\n"
     ]
    },
    {
     "name": "stderr",
     "output_type": "stream",
     "text": [
      "  0%|          | 0/1 [00:00<?, ?it/s]WARNING:root:Warning: NO FACE is detected\n",
      "100%|██████████| 1/1 [00:01<00:00,  1.38s/it]\n",
      "C:\\Users\\PC\\AppData\\Local\\Temp\\ipykernel_30888\\419020417.py:37: FutureWarning: The behavior of FexSeries.idxmax with all-NA values, or any-NA and skipna=False, is deprecated. In a future version this will raise ValueError\n",
      "  emotion = result.emotions.iloc[0].idxmax() # Emotion with highest score\n"
     ]
    },
    {
     "name": "stdout",
     "output_type": "stream",
     "text": [
      "Detection error: OpenCV(4.12.0) :-1: error: (-5:Bad argument) in function 'putText'\n",
      "> Overload resolution failed:\n",
      ">  - Can't convert object to 'str' for 'text'\n",
      ">  - Can't convert object to 'str' for 'text'\n",
      "\n"
     ]
    },
    {
     "name": "stderr",
     "output_type": "stream",
     "text": [
      "  0%|          | 0/1 [00:00<?, ?it/s]WARNING:root:Warning: NO FACE is detected\n",
      "100%|██████████| 1/1 [00:01<00:00,  1.37s/it]\n",
      "C:\\Users\\PC\\AppData\\Local\\Temp\\ipykernel_30888\\419020417.py:37: FutureWarning: The behavior of FexSeries.idxmax with all-NA values, or any-NA and skipna=False, is deprecated. In a future version this will raise ValueError\n",
      "  emotion = result.emotions.iloc[0].idxmax() # Emotion with highest score\n"
     ]
    },
    {
     "name": "stdout",
     "output_type": "stream",
     "text": [
      "Detection error: OpenCV(4.12.0) :-1: error: (-5:Bad argument) in function 'putText'\n",
      "> Overload resolution failed:\n",
      ">  - Can't convert object to 'str' for 'text'\n",
      ">  - Can't convert object to 'str' for 'text'\n",
      "\n"
     ]
    },
    {
     "name": "stderr",
     "output_type": "stream",
     "text": [
      "  0%|          | 0/1 [00:00<?, ?it/s]WARNING:root:Warning: NO FACE is detected\n",
      "100%|██████████| 1/1 [00:01<00:00,  1.37s/it]\n",
      "C:\\Users\\PC\\AppData\\Local\\Temp\\ipykernel_30888\\419020417.py:37: FutureWarning: The behavior of FexSeries.idxmax with all-NA values, or any-NA and skipna=False, is deprecated. In a future version this will raise ValueError\n",
      "  emotion = result.emotions.iloc[0].idxmax() # Emotion with highest score\n"
     ]
    },
    {
     "name": "stdout",
     "output_type": "stream",
     "text": [
      "Detection error: OpenCV(4.12.0) :-1: error: (-5:Bad argument) in function 'putText'\n",
      "> Overload resolution failed:\n",
      ">  - Can't convert object to 'str' for 'text'\n",
      ">  - Can't convert object to 'str' for 'text'\n",
      "\n"
     ]
    },
    {
     "name": "stderr",
     "output_type": "stream",
     "text": [
      "  0%|          | 0/1 [00:00<?, ?it/s]WARNING:root:Warning: NO FACE is detected\n",
      "100%|██████████| 1/1 [00:01<00:00,  1.37s/it]\n",
      "C:\\Users\\PC\\AppData\\Local\\Temp\\ipykernel_30888\\419020417.py:37: FutureWarning: The behavior of FexSeries.idxmax with all-NA values, or any-NA and skipna=False, is deprecated. In a future version this will raise ValueError\n",
      "  emotion = result.emotions.iloc[0].idxmax() # Emotion with highest score\n"
     ]
    },
    {
     "name": "stdout",
     "output_type": "stream",
     "text": [
      "Detection error: OpenCV(4.12.0) :-1: error: (-5:Bad argument) in function 'putText'\n",
      "> Overload resolution failed:\n",
      ">  - Can't convert object to 'str' for 'text'\n",
      ">  - Can't convert object to 'str' for 'text'\n",
      "\n"
     ]
    },
    {
     "name": "stderr",
     "output_type": "stream",
     "text": [
      "  0%|          | 0/1 [00:00<?, ?it/s]WARNING:root:Warning: NO FACE is detected\n",
      "100%|██████████| 1/1 [00:01<00:00,  1.38s/it]\n",
      "C:\\Users\\PC\\AppData\\Local\\Temp\\ipykernel_30888\\419020417.py:37: FutureWarning: The behavior of FexSeries.idxmax with all-NA values, or any-NA and skipna=False, is deprecated. In a future version this will raise ValueError\n",
      "  emotion = result.emotions.iloc[0].idxmax() # Emotion with highest score\n"
     ]
    },
    {
     "name": "stdout",
     "output_type": "stream",
     "text": [
      "Detection error: OpenCV(4.12.0) :-1: error: (-5:Bad argument) in function 'putText'\n",
      "> Overload resolution failed:\n",
      ">  - Can't convert object to 'str' for 'text'\n",
      ">  - Can't convert object to 'str' for 'text'\n",
      "\n"
     ]
    },
    {
     "name": "stderr",
     "output_type": "stream",
     "text": [
      "  0%|          | 0/1 [00:00<?, ?it/s]WARNING:root:Warning: NO FACE is detected\n",
      "100%|██████████| 1/1 [00:01<00:00,  1.37s/it]\n",
      "C:\\Users\\PC\\AppData\\Local\\Temp\\ipykernel_30888\\419020417.py:37: FutureWarning: The behavior of FexSeries.idxmax with all-NA values, or any-NA and skipna=False, is deprecated. In a future version this will raise ValueError\n",
      "  emotion = result.emotions.iloc[0].idxmax() # Emotion with highest score\n"
     ]
    },
    {
     "name": "stdout",
     "output_type": "stream",
     "text": [
      "Detection error: OpenCV(4.12.0) :-1: error: (-5:Bad argument) in function 'putText'\n",
      "> Overload resolution failed:\n",
      ">  - Can't convert object to 'str' for 'text'\n",
      ">  - Can't convert object to 'str' for 'text'\n",
      "\n"
     ]
    },
    {
     "name": "stderr",
     "output_type": "stream",
     "text": [
      "  0%|          | 0/1 [00:00<?, ?it/s]WARNING:root:Warning: NO FACE is detected\n",
      "100%|██████████| 1/1 [00:01<00:00,  1.38s/it]\n",
      "C:\\Users\\PC\\AppData\\Local\\Temp\\ipykernel_30888\\419020417.py:37: FutureWarning: The behavior of FexSeries.idxmax with all-NA values, or any-NA and skipna=False, is deprecated. In a future version this will raise ValueError\n",
      "  emotion = result.emotions.iloc[0].idxmax() # Emotion with highest score\n"
     ]
    },
    {
     "name": "stdout",
     "output_type": "stream",
     "text": [
      "Detection error: OpenCV(4.12.0) :-1: error: (-5:Bad argument) in function 'putText'\n",
      "> Overload resolution failed:\n",
      ">  - Can't convert object to 'str' for 'text'\n",
      ">  - Can't convert object to 'str' for 'text'\n",
      "\n"
     ]
    },
    {
     "name": "stderr",
     "output_type": "stream",
     "text": [
      "  0%|          | 0/1 [00:00<?, ?it/s]WARNING:root:Warning: NO FACE is detected\n",
      "100%|██████████| 1/1 [00:01<00:00,  1.38s/it]\n",
      "C:\\Users\\PC\\AppData\\Local\\Temp\\ipykernel_30888\\419020417.py:37: FutureWarning: The behavior of FexSeries.idxmax with all-NA values, or any-NA and skipna=False, is deprecated. In a future version this will raise ValueError\n",
      "  emotion = result.emotions.iloc[0].idxmax() # Emotion with highest score\n"
     ]
    },
    {
     "name": "stdout",
     "output_type": "stream",
     "text": [
      "Detection error: OpenCV(4.12.0) :-1: error: (-5:Bad argument) in function 'putText'\n",
      "> Overload resolution failed:\n",
      ">  - Can't convert object to 'str' for 'text'\n",
      ">  - Can't convert object to 'str' for 'text'\n",
      "\n"
     ]
    },
    {
     "name": "stderr",
     "output_type": "stream",
     "text": [
      "  0%|          | 0/1 [00:00<?, ?it/s]WARNING:root:Warning: NO FACE is detected\n",
      "100%|██████████| 1/1 [00:01<00:00,  1.36s/it]\n",
      "C:\\Users\\PC\\AppData\\Local\\Temp\\ipykernel_30888\\419020417.py:37: FutureWarning: The behavior of FexSeries.idxmax with all-NA values, or any-NA and skipna=False, is deprecated. In a future version this will raise ValueError\n",
      "  emotion = result.emotions.iloc[0].idxmax() # Emotion with highest score\n"
     ]
    },
    {
     "name": "stdout",
     "output_type": "stream",
     "text": [
      "Detection error: OpenCV(4.12.0) :-1: error: (-5:Bad argument) in function 'putText'\n",
      "> Overload resolution failed:\n",
      ">  - Can't convert object to 'str' for 'text'\n",
      ">  - Can't convert object to 'str' for 'text'\n",
      "\n"
     ]
    },
    {
     "name": "stderr",
     "output_type": "stream",
     "text": [
      "  0%|          | 0/1 [00:00<?, ?it/s]WARNING:root:Warning: NO FACE is detected\n",
      "100%|██████████| 1/1 [00:01<00:00,  1.39s/it]\n",
      "C:\\Users\\PC\\AppData\\Local\\Temp\\ipykernel_30888\\419020417.py:37: FutureWarning: The behavior of FexSeries.idxmax with all-NA values, or any-NA and skipna=False, is deprecated. In a future version this will raise ValueError\n",
      "  emotion = result.emotions.iloc[0].idxmax() # Emotion with highest score\n"
     ]
    },
    {
     "name": "stdout",
     "output_type": "stream",
     "text": [
      "Detection error: OpenCV(4.12.0) :-1: error: (-5:Bad argument) in function 'putText'\n",
      "> Overload resolution failed:\n",
      ">  - Can't convert object to 'str' for 'text'\n",
      ">  - Can't convert object to 'str' for 'text'\n",
      "\n"
     ]
    },
    {
     "name": "stderr",
     "output_type": "stream",
     "text": [
      "  0%|          | 0/1 [00:00<?, ?it/s]WARNING:root:Warning: NO FACE is detected\n",
      "100%|██████████| 1/1 [00:01<00:00,  1.37s/it]\n",
      "C:\\Users\\PC\\AppData\\Local\\Temp\\ipykernel_30888\\419020417.py:37: FutureWarning: The behavior of FexSeries.idxmax with all-NA values, or any-NA and skipna=False, is deprecated. In a future version this will raise ValueError\n",
      "  emotion = result.emotions.iloc[0].idxmax() # Emotion with highest score\n"
     ]
    },
    {
     "name": "stdout",
     "output_type": "stream",
     "text": [
      "Detection error: OpenCV(4.12.0) :-1: error: (-5:Bad argument) in function 'putText'\n",
      "> Overload resolution failed:\n",
      ">  - Can't convert object to 'str' for 'text'\n",
      ">  - Can't convert object to 'str' for 'text'\n",
      "\n"
     ]
    },
    {
     "name": "stderr",
     "output_type": "stream",
     "text": [
      "  0%|          | 0/1 [00:00<?, ?it/s]WARNING:root:Warning: NO FACE is detected\n",
      "100%|██████████| 1/1 [00:01<00:00,  1.38s/it]\n",
      "C:\\Users\\PC\\AppData\\Local\\Temp\\ipykernel_30888\\419020417.py:37: FutureWarning: The behavior of FexSeries.idxmax with all-NA values, or any-NA and skipna=False, is deprecated. In a future version this will raise ValueError\n",
      "  emotion = result.emotions.iloc[0].idxmax() # Emotion with highest score\n"
     ]
    },
    {
     "name": "stdout",
     "output_type": "stream",
     "text": [
      "Detection error: OpenCV(4.12.0) :-1: error: (-5:Bad argument) in function 'putText'\n",
      "> Overload resolution failed:\n",
      ">  - Can't convert object to 'str' for 'text'\n",
      ">  - Can't convert object to 'str' for 'text'\n",
      "\n"
     ]
    },
    {
     "name": "stderr",
     "output_type": "stream",
     "text": [
      "  0%|          | 0/1 [00:00<?, ?it/s]WARNING:root:Warning: NO FACE is detected\n",
      "100%|██████████| 1/1 [00:01<00:00,  1.37s/it]\n",
      "C:\\Users\\PC\\AppData\\Local\\Temp\\ipykernel_30888\\419020417.py:37: FutureWarning: The behavior of FexSeries.idxmax with all-NA values, or any-NA and skipna=False, is deprecated. In a future version this will raise ValueError\n",
      "  emotion = result.emotions.iloc[0].idxmax() # Emotion with highest score\n"
     ]
    },
    {
     "name": "stdout",
     "output_type": "stream",
     "text": [
      "Detection error: OpenCV(4.12.0) :-1: error: (-5:Bad argument) in function 'putText'\n",
      "> Overload resolution failed:\n",
      ">  - Can't convert object to 'str' for 'text'\n",
      ">  - Can't convert object to 'str' for 'text'\n",
      "\n"
     ]
    },
    {
     "name": "stderr",
     "output_type": "stream",
     "text": [
      "  0%|          | 0/1 [00:00<?, ?it/s]WARNING:root:Warning: NO FACE is detected\n",
      "100%|██████████| 1/1 [00:01<00:00,  1.38s/it]\n",
      "C:\\Users\\PC\\AppData\\Local\\Temp\\ipykernel_30888\\419020417.py:37: FutureWarning: The behavior of FexSeries.idxmax with all-NA values, or any-NA and skipna=False, is deprecated. In a future version this will raise ValueError\n",
      "  emotion = result.emotions.iloc[0].idxmax() # Emotion with highest score\n"
     ]
    },
    {
     "name": "stdout",
     "output_type": "stream",
     "text": [
      "Detection error: OpenCV(4.12.0) :-1: error: (-5:Bad argument) in function 'putText'\n",
      "> Overload resolution failed:\n",
      ">  - Can't convert object to 'str' for 'text'\n",
      ">  - Can't convert object to 'str' for 'text'\n",
      "\n"
     ]
    },
    {
     "name": "stderr",
     "output_type": "stream",
     "text": [
      "  0%|          | 0/1 [00:00<?, ?it/s]WARNING:root:Warning: NO FACE is detected\n",
      "100%|██████████| 1/1 [00:01<00:00,  1.37s/it]\n",
      "C:\\Users\\PC\\AppData\\Local\\Temp\\ipykernel_30888\\419020417.py:37: FutureWarning: The behavior of FexSeries.idxmax with all-NA values, or any-NA and skipna=False, is deprecated. In a future version this will raise ValueError\n",
      "  emotion = result.emotions.iloc[0].idxmax() # Emotion with highest score\n"
     ]
    },
    {
     "name": "stdout",
     "output_type": "stream",
     "text": [
      "Detection error: OpenCV(4.12.0) :-1: error: (-5:Bad argument) in function 'putText'\n",
      "> Overload resolution failed:\n",
      ">  - Can't convert object to 'str' for 'text'\n",
      ">  - Can't convert object to 'str' for 'text'\n",
      "\n"
     ]
    },
    {
     "name": "stderr",
     "output_type": "stream",
     "text": [
      "  0%|          | 0/1 [00:00<?, ?it/s]WARNING:root:Warning: NO FACE is detected\n",
      "100%|██████████| 1/1 [00:01<00:00,  1.38s/it]\n",
      "C:\\Users\\PC\\AppData\\Local\\Temp\\ipykernel_30888\\419020417.py:37: FutureWarning: The behavior of FexSeries.idxmax with all-NA values, or any-NA and skipna=False, is deprecated. In a future version this will raise ValueError\n",
      "  emotion = result.emotions.iloc[0].idxmax() # Emotion with highest score\n"
     ]
    },
    {
     "name": "stdout",
     "output_type": "stream",
     "text": [
      "Detection error: OpenCV(4.12.0) :-1: error: (-5:Bad argument) in function 'putText'\n",
      "> Overload resolution failed:\n",
      ">  - Can't convert object to 'str' for 'text'\n",
      ">  - Can't convert object to 'str' for 'text'\n",
      "\n"
     ]
    },
    {
     "name": "stderr",
     "output_type": "stream",
     "text": [
      "  0%|          | 0/1 [00:00<?, ?it/s]WARNING:root:Warning: NO FACE is detected\n",
      "100%|██████████| 1/1 [00:01<00:00,  1.41s/it]\n",
      "C:\\Users\\PC\\AppData\\Local\\Temp\\ipykernel_30888\\419020417.py:37: FutureWarning: The behavior of FexSeries.idxmax with all-NA values, or any-NA and skipna=False, is deprecated. In a future version this will raise ValueError\n",
      "  emotion = result.emotions.iloc[0].idxmax() # Emotion with highest score\n"
     ]
    },
    {
     "name": "stdout",
     "output_type": "stream",
     "text": [
      "Detection error: OpenCV(4.12.0) :-1: error: (-5:Bad argument) in function 'putText'\n",
      "> Overload resolution failed:\n",
      ">  - Can't convert object to 'str' for 'text'\n",
      ">  - Can't convert object to 'str' for 'text'\n",
      "\n"
     ]
    },
    {
     "name": "stderr",
     "output_type": "stream",
     "text": [
      "  0%|          | 0/1 [00:00<?, ?it/s]WARNING:root:Warning: NO FACE is detected\n",
      "100%|██████████| 1/1 [00:01<00:00,  1.41s/it]\n",
      "C:\\Users\\PC\\AppData\\Local\\Temp\\ipykernel_30888\\419020417.py:37: FutureWarning: The behavior of FexSeries.idxmax with all-NA values, or any-NA and skipna=False, is deprecated. In a future version this will raise ValueError\n",
      "  emotion = result.emotions.iloc[0].idxmax() # Emotion with highest score\n"
     ]
    },
    {
     "name": "stdout",
     "output_type": "stream",
     "text": [
      "Detection error: OpenCV(4.12.0) :-1: error: (-5:Bad argument) in function 'putText'\n",
      "> Overload resolution failed:\n",
      ">  - Can't convert object to 'str' for 'text'\n",
      ">  - Can't convert object to 'str' for 'text'\n",
      "\n"
     ]
    },
    {
     "name": "stderr",
     "output_type": "stream",
     "text": [
      "  0%|          | 0/1 [00:00<?, ?it/s]WARNING:root:Warning: NO FACE is detected\n",
      "100%|██████████| 1/1 [00:01<00:00,  1.40s/it]\n",
      "C:\\Users\\PC\\AppData\\Local\\Temp\\ipykernel_30888\\419020417.py:37: FutureWarning: The behavior of FexSeries.idxmax with all-NA values, or any-NA and skipna=False, is deprecated. In a future version this will raise ValueError\n",
      "  emotion = result.emotions.iloc[0].idxmax() # Emotion with highest score\n"
     ]
    },
    {
     "name": "stdout",
     "output_type": "stream",
     "text": [
      "Detection error: OpenCV(4.12.0) :-1: error: (-5:Bad argument) in function 'putText'\n",
      "> Overload resolution failed:\n",
      ">  - Can't convert object to 'str' for 'text'\n",
      ">  - Can't convert object to 'str' for 'text'\n",
      "\n"
     ]
    },
    {
     "name": "stderr",
     "output_type": "stream",
     "text": [
      "  0%|          | 0/1 [00:00<?, ?it/s]WARNING:root:Warning: NO FACE is detected\n",
      "100%|██████████| 1/1 [00:01<00:00,  1.35s/it]\n",
      "C:\\Users\\PC\\AppData\\Local\\Temp\\ipykernel_30888\\419020417.py:37: FutureWarning: The behavior of FexSeries.idxmax with all-NA values, or any-NA and skipna=False, is deprecated. In a future version this will raise ValueError\n",
      "  emotion = result.emotions.iloc[0].idxmax() # Emotion with highest score\n"
     ]
    },
    {
     "name": "stdout",
     "output_type": "stream",
     "text": [
      "Detection error: OpenCV(4.12.0) :-1: error: (-5:Bad argument) in function 'putText'\n",
      "> Overload resolution failed:\n",
      ">  - Can't convert object to 'str' for 'text'\n",
      ">  - Can't convert object to 'str' for 'text'\n",
      "\n"
     ]
    },
    {
     "name": "stderr",
     "output_type": "stream",
     "text": [
      "  0%|          | 0/1 [00:00<?, ?it/s]WARNING:root:Warning: NO FACE is detected\n",
      "100%|██████████| 1/1 [00:01<00:00,  1.35s/it]\n",
      "C:\\Users\\PC\\AppData\\Local\\Temp\\ipykernel_30888\\419020417.py:37: FutureWarning: The behavior of FexSeries.idxmax with all-NA values, or any-NA and skipna=False, is deprecated. In a future version this will raise ValueError\n",
      "  emotion = result.emotions.iloc[0].idxmax() # Emotion with highest score\n"
     ]
    },
    {
     "name": "stdout",
     "output_type": "stream",
     "text": [
      "Detection error: OpenCV(4.12.0) :-1: error: (-5:Bad argument) in function 'putText'\n",
      "> Overload resolution failed:\n",
      ">  - Can't convert object to 'str' for 'text'\n",
      ">  - Can't convert object to 'str' for 'text'\n",
      "\n"
     ]
    },
    {
     "name": "stderr",
     "output_type": "stream",
     "text": [
      "  0%|          | 0/1 [00:00<?, ?it/s]WARNING:root:Warning: NO FACE is detected\n",
      "100%|██████████| 1/1 [00:01<00:00,  1.47s/it]\n",
      "C:\\Users\\PC\\AppData\\Local\\Temp\\ipykernel_30888\\419020417.py:37: FutureWarning: The behavior of FexSeries.idxmax with all-NA values, or any-NA and skipna=False, is deprecated. In a future version this will raise ValueError\n",
      "  emotion = result.emotions.iloc[0].idxmax() # Emotion with highest score\n"
     ]
    },
    {
     "name": "stdout",
     "output_type": "stream",
     "text": [
      "Detection error: OpenCV(4.12.0) :-1: error: (-5:Bad argument) in function 'putText'\n",
      "> Overload resolution failed:\n",
      ">  - Can't convert object to 'str' for 'text'\n",
      ">  - Can't convert object to 'str' for 'text'\n",
      "\n"
     ]
    },
    {
     "name": "stderr",
     "output_type": "stream",
     "text": [
      "  0%|          | 0/1 [00:00<?, ?it/s]WARNING:root:Warning: NO FACE is detected\n",
      "100%|██████████| 1/1 [00:01<00:00,  1.45s/it]\n",
      "C:\\Users\\PC\\AppData\\Local\\Temp\\ipykernel_30888\\419020417.py:37: FutureWarning: The behavior of FexSeries.idxmax with all-NA values, or any-NA and skipna=False, is deprecated. In a future version this will raise ValueError\n",
      "  emotion = result.emotions.iloc[0].idxmax() # Emotion with highest score\n"
     ]
    },
    {
     "name": "stdout",
     "output_type": "stream",
     "text": [
      "Detection error: OpenCV(4.12.0) :-1: error: (-5:Bad argument) in function 'putText'\n",
      "> Overload resolution failed:\n",
      ">  - Can't convert object to 'str' for 'text'\n",
      ">  - Can't convert object to 'str' for 'text'\n",
      "\n"
     ]
    },
    {
     "name": "stderr",
     "output_type": "stream",
     "text": [
      "  0%|          | 0/1 [00:00<?, ?it/s]WARNING:root:Warning: NO FACE is detected\n",
      "100%|██████████| 1/1 [00:01<00:00,  1.56s/it]\n",
      "C:\\Users\\PC\\AppData\\Local\\Temp\\ipykernel_30888\\419020417.py:37: FutureWarning: The behavior of FexSeries.idxmax with all-NA values, or any-NA and skipna=False, is deprecated. In a future version this will raise ValueError\n",
      "  emotion = result.emotions.iloc[0].idxmax() # Emotion with highest score\n"
     ]
    },
    {
     "name": "stdout",
     "output_type": "stream",
     "text": [
      "Detection error: OpenCV(4.12.0) :-1: error: (-5:Bad argument) in function 'putText'\n",
      "> Overload resolution failed:\n",
      ">  - Can't convert object to 'str' for 'text'\n",
      ">  - Can't convert object to 'str' for 'text'\n",
      "\n"
     ]
    },
    {
     "name": "stderr",
     "output_type": "stream",
     "text": [
      "  0%|          | 0/1 [00:00<?, ?it/s]WARNING:root:Warning: NO FACE is detected\n",
      "100%|██████████| 1/1 [00:01<00:00,  1.38s/it]\n",
      "C:\\Users\\PC\\AppData\\Local\\Temp\\ipykernel_30888\\419020417.py:37: FutureWarning: The behavior of FexSeries.idxmax with all-NA values, or any-NA and skipna=False, is deprecated. In a future version this will raise ValueError\n",
      "  emotion = result.emotions.iloc[0].idxmax() # Emotion with highest score\n"
     ]
    },
    {
     "name": "stdout",
     "output_type": "stream",
     "text": [
      "Detection error: OpenCV(4.12.0) :-1: error: (-5:Bad argument) in function 'putText'\n",
      "> Overload resolution failed:\n",
      ">  - Can't convert object to 'str' for 'text'\n",
      ">  - Can't convert object to 'str' for 'text'\n",
      "\n"
     ]
    },
    {
     "name": "stderr",
     "output_type": "stream",
     "text": [
      "  0%|          | 0/1 [00:00<?, ?it/s]WARNING:root:Warning: NO FACE is detected\n",
      "100%|██████████| 1/1 [00:01<00:00,  1.43s/it]\n",
      "C:\\Users\\PC\\AppData\\Local\\Temp\\ipykernel_30888\\419020417.py:37: FutureWarning: The behavior of FexSeries.idxmax with all-NA values, or any-NA and skipna=False, is deprecated. In a future version this will raise ValueError\n",
      "  emotion = result.emotions.iloc[0].idxmax() # Emotion with highest score\n"
     ]
    },
    {
     "name": "stdout",
     "output_type": "stream",
     "text": [
      "Detection error: OpenCV(4.12.0) :-1: error: (-5:Bad argument) in function 'putText'\n",
      "> Overload resolution failed:\n",
      ">  - Can't convert object to 'str' for 'text'\n",
      ">  - Can't convert object to 'str' for 'text'\n",
      "\n"
     ]
    },
    {
     "name": "stderr",
     "output_type": "stream",
     "text": [
      "  0%|          | 0/1 [00:00<?, ?it/s]WARNING:root:Warning: NO FACE is detected\n",
      "100%|██████████| 1/1 [00:01<00:00,  1.44s/it]\n",
      "C:\\Users\\PC\\AppData\\Local\\Temp\\ipykernel_30888\\419020417.py:37: FutureWarning: The behavior of FexSeries.idxmax with all-NA values, or any-NA and skipna=False, is deprecated. In a future version this will raise ValueError\n",
      "  emotion = result.emotions.iloc[0].idxmax() # Emotion with highest score\n"
     ]
    },
    {
     "name": "stdout",
     "output_type": "stream",
     "text": [
      "Detection error: OpenCV(4.12.0) :-1: error: (-5:Bad argument) in function 'putText'\n",
      "> Overload resolution failed:\n",
      ">  - Can't convert object to 'str' for 'text'\n",
      ">  - Can't convert object to 'str' for 'text'\n",
      "\n"
     ]
    },
    {
     "name": "stderr",
     "output_type": "stream",
     "text": [
      "  0%|          | 0/1 [00:00<?, ?it/s]WARNING:root:Warning: NO FACE is detected\n",
      "100%|██████████| 1/1 [00:01<00:00,  1.46s/it]\n",
      "C:\\Users\\PC\\AppData\\Local\\Temp\\ipykernel_30888\\419020417.py:37: FutureWarning: The behavior of FexSeries.idxmax with all-NA values, or any-NA and skipna=False, is deprecated. In a future version this will raise ValueError\n",
      "  emotion = result.emotions.iloc[0].idxmax() # Emotion with highest score\n"
     ]
    },
    {
     "name": "stdout",
     "output_type": "stream",
     "text": [
      "Detection error: OpenCV(4.12.0) :-1: error: (-5:Bad argument) in function 'putText'\n",
      "> Overload resolution failed:\n",
      ">  - Can't convert object to 'str' for 'text'\n",
      ">  - Can't convert object to 'str' for 'text'\n",
      "\n"
     ]
    },
    {
     "name": "stderr",
     "output_type": "stream",
     "text": [
      "  0%|          | 0/1 [00:00<?, ?it/s]WARNING:root:Warning: NO FACE is detected\n",
      "100%|██████████| 1/1 [00:01<00:00,  1.42s/it]\n",
      "C:\\Users\\PC\\AppData\\Local\\Temp\\ipykernel_30888\\419020417.py:37: FutureWarning: The behavior of FexSeries.idxmax with all-NA values, or any-NA and skipna=False, is deprecated. In a future version this will raise ValueError\n",
      "  emotion = result.emotions.iloc[0].idxmax() # Emotion with highest score\n"
     ]
    },
    {
     "name": "stdout",
     "output_type": "stream",
     "text": [
      "Detection error: OpenCV(4.12.0) :-1: error: (-5:Bad argument) in function 'putText'\n",
      "> Overload resolution failed:\n",
      ">  - Can't convert object to 'str' for 'text'\n",
      ">  - Can't convert object to 'str' for 'text'\n",
      "\n"
     ]
    },
    {
     "name": "stderr",
     "output_type": "stream",
     "text": [
      "  0%|          | 0/1 [00:00<?, ?it/s]WARNING:root:Warning: NO FACE is detected\n",
      "100%|██████████| 1/1 [00:01<00:00,  1.43s/it]\n",
      "C:\\Users\\PC\\AppData\\Local\\Temp\\ipykernel_30888\\419020417.py:37: FutureWarning: The behavior of FexSeries.idxmax with all-NA values, or any-NA and skipna=False, is deprecated. In a future version this will raise ValueError\n",
      "  emotion = result.emotions.iloc[0].idxmax() # Emotion with highest score\n"
     ]
    },
    {
     "name": "stdout",
     "output_type": "stream",
     "text": [
      "Detection error: OpenCV(4.12.0) :-1: error: (-5:Bad argument) in function 'putText'\n",
      "> Overload resolution failed:\n",
      ">  - Can't convert object to 'str' for 'text'\n",
      ">  - Can't convert object to 'str' for 'text'\n",
      "\n"
     ]
    },
    {
     "name": "stderr",
     "output_type": "stream",
     "text": [
      "  0%|          | 0/1 [00:00<?, ?it/s]WARNING:root:Warning: NO FACE is detected\n",
      "100%|██████████| 1/1 [00:01<00:00,  1.44s/it]\n",
      "C:\\Users\\PC\\AppData\\Local\\Temp\\ipykernel_30888\\419020417.py:37: FutureWarning: The behavior of FexSeries.idxmax with all-NA values, or any-NA and skipna=False, is deprecated. In a future version this will raise ValueError\n",
      "  emotion = result.emotions.iloc[0].idxmax() # Emotion with highest score\n"
     ]
    },
    {
     "name": "stdout",
     "output_type": "stream",
     "text": [
      "Detection error: OpenCV(4.12.0) :-1: error: (-5:Bad argument) in function 'putText'\n",
      "> Overload resolution failed:\n",
      ">  - Can't convert object to 'str' for 'text'\n",
      ">  - Can't convert object to 'str' for 'text'\n",
      "\n"
     ]
    },
    {
     "name": "stderr",
     "output_type": "stream",
     "text": [
      "  0%|          | 0/1 [00:00<?, ?it/s]WARNING:root:Warning: NO FACE is detected\n",
      "100%|██████████| 1/1 [00:01<00:00,  1.42s/it]\n",
      "C:\\Users\\PC\\AppData\\Local\\Temp\\ipykernel_30888\\419020417.py:37: FutureWarning: The behavior of FexSeries.idxmax with all-NA values, or any-NA and skipna=False, is deprecated. In a future version this will raise ValueError\n",
      "  emotion = result.emotions.iloc[0].idxmax() # Emotion with highest score\n"
     ]
    },
    {
     "name": "stdout",
     "output_type": "stream",
     "text": [
      "Detection error: OpenCV(4.12.0) :-1: error: (-5:Bad argument) in function 'putText'\n",
      "> Overload resolution failed:\n",
      ">  - Can't convert object to 'str' for 'text'\n",
      ">  - Can't convert object to 'str' for 'text'\n",
      "\n"
     ]
    },
    {
     "name": "stderr",
     "output_type": "stream",
     "text": [
      "  0%|          | 0/1 [00:00<?, ?it/s]WARNING:root:Warning: NO FACE is detected\n",
      "100%|██████████| 1/1 [00:01<00:00,  1.43s/it]\n",
      "C:\\Users\\PC\\AppData\\Local\\Temp\\ipykernel_30888\\419020417.py:37: FutureWarning: The behavior of FexSeries.idxmax with all-NA values, or any-NA and skipna=False, is deprecated. In a future version this will raise ValueError\n",
      "  emotion = result.emotions.iloc[0].idxmax() # Emotion with highest score\n"
     ]
    },
    {
     "name": "stdout",
     "output_type": "stream",
     "text": [
      "Detection error: OpenCV(4.12.0) :-1: error: (-5:Bad argument) in function 'putText'\n",
      "> Overload resolution failed:\n",
      ">  - Can't convert object to 'str' for 'text'\n",
      ">  - Can't convert object to 'str' for 'text'\n",
      "\n"
     ]
    },
    {
     "name": "stderr",
     "output_type": "stream",
     "text": [
      "  0%|          | 0/1 [00:00<?, ?it/s]WARNING:root:Warning: NO FACE is detected\n",
      "100%|██████████| 1/1 [00:01<00:00,  1.48s/it]\n",
      "C:\\Users\\PC\\AppData\\Local\\Temp\\ipykernel_30888\\419020417.py:37: FutureWarning: The behavior of FexSeries.idxmax with all-NA values, or any-NA and skipna=False, is deprecated. In a future version this will raise ValueError\n",
      "  emotion = result.emotions.iloc[0].idxmax() # Emotion with highest score\n"
     ]
    },
    {
     "name": "stdout",
     "output_type": "stream",
     "text": [
      "Detection error: OpenCV(4.12.0) :-1: error: (-5:Bad argument) in function 'putText'\n",
      "> Overload resolution failed:\n",
      ">  - Can't convert object to 'str' for 'text'\n",
      ">  - Can't convert object to 'str' for 'text'\n",
      "\n"
     ]
    },
    {
     "name": "stderr",
     "output_type": "stream",
     "text": [
      "  0%|          | 0/1 [00:00<?, ?it/s]WARNING:root:Warning: NO FACE is detected\n",
      "100%|██████████| 1/1 [00:01<00:00,  1.41s/it]\n",
      "C:\\Users\\PC\\AppData\\Local\\Temp\\ipykernel_30888\\419020417.py:37: FutureWarning: The behavior of FexSeries.idxmax with all-NA values, or any-NA and skipna=False, is deprecated. In a future version this will raise ValueError\n",
      "  emotion = result.emotions.iloc[0].idxmax() # Emotion with highest score\n"
     ]
    },
    {
     "name": "stdout",
     "output_type": "stream",
     "text": [
      "Detection error: OpenCV(4.12.0) :-1: error: (-5:Bad argument) in function 'putText'\n",
      "> Overload resolution failed:\n",
      ">  - Can't convert object to 'str' for 'text'\n",
      ">  - Can't convert object to 'str' for 'text'\n",
      "\n"
     ]
    },
    {
     "name": "stderr",
     "output_type": "stream",
     "text": [
      "  0%|          | 0/1 [00:00<?, ?it/s]WARNING:root:Warning: NO FACE is detected\n",
      "100%|██████████| 1/1 [00:01<00:00,  1.47s/it]\n",
      "C:\\Users\\PC\\AppData\\Local\\Temp\\ipykernel_30888\\419020417.py:37: FutureWarning: The behavior of FexSeries.idxmax with all-NA values, or any-NA and skipna=False, is deprecated. In a future version this will raise ValueError\n",
      "  emotion = result.emotions.iloc[0].idxmax() # Emotion with highest score\n"
     ]
    },
    {
     "name": "stdout",
     "output_type": "stream",
     "text": [
      "Detection error: OpenCV(4.12.0) :-1: error: (-5:Bad argument) in function 'putText'\n",
      "> Overload resolution failed:\n",
      ">  - Can't convert object to 'str' for 'text'\n",
      ">  - Can't convert object to 'str' for 'text'\n",
      "\n"
     ]
    },
    {
     "name": "stderr",
     "output_type": "stream",
     "text": [
      "  0%|          | 0/1 [00:00<?, ?it/s]WARNING:root:Warning: NO FACE is detected\n",
      "100%|██████████| 1/1 [00:01<00:00,  1.40s/it]\n",
      "C:\\Users\\PC\\AppData\\Local\\Temp\\ipykernel_30888\\419020417.py:37: FutureWarning: The behavior of FexSeries.idxmax with all-NA values, or any-NA and skipna=False, is deprecated. In a future version this will raise ValueError\n",
      "  emotion = result.emotions.iloc[0].idxmax() # Emotion with highest score\n"
     ]
    },
    {
     "name": "stdout",
     "output_type": "stream",
     "text": [
      "Detection error: OpenCV(4.12.0) :-1: error: (-5:Bad argument) in function 'putText'\n",
      "> Overload resolution failed:\n",
      ">  - Can't convert object to 'str' for 'text'\n",
      ">  - Can't convert object to 'str' for 'text'\n",
      "\n"
     ]
    },
    {
     "name": "stderr",
     "output_type": "stream",
     "text": [
      "  0%|          | 0/1 [00:00<?, ?it/s]WARNING:root:Warning: NO FACE is detected\n",
      "100%|██████████| 1/1 [00:01<00:00,  1.42s/it]\n",
      "C:\\Users\\PC\\AppData\\Local\\Temp\\ipykernel_30888\\419020417.py:37: FutureWarning: The behavior of FexSeries.idxmax with all-NA values, or any-NA and skipna=False, is deprecated. In a future version this will raise ValueError\n",
      "  emotion = result.emotions.iloc[0].idxmax() # Emotion with highest score\n"
     ]
    },
    {
     "name": "stdout",
     "output_type": "stream",
     "text": [
      "Detection error: OpenCV(4.12.0) :-1: error: (-5:Bad argument) in function 'putText'\n",
      "> Overload resolution failed:\n",
      ">  - Can't convert object to 'str' for 'text'\n",
      ">  - Can't convert object to 'str' for 'text'\n",
      "\n"
     ]
    },
    {
     "name": "stderr",
     "output_type": "stream",
     "text": [
      "  0%|          | 0/1 [00:00<?, ?it/s]WARNING:root:Warning: NO FACE is detected\n",
      "100%|██████████| 1/1 [00:01<00:00,  1.48s/it]\n",
      "C:\\Users\\PC\\AppData\\Local\\Temp\\ipykernel_30888\\419020417.py:37: FutureWarning: The behavior of FexSeries.idxmax with all-NA values, or any-NA and skipna=False, is deprecated. In a future version this will raise ValueError\n",
      "  emotion = result.emotions.iloc[0].idxmax() # Emotion with highest score\n"
     ]
    },
    {
     "name": "stdout",
     "output_type": "stream",
     "text": [
      "Detection error: OpenCV(4.12.0) :-1: error: (-5:Bad argument) in function 'putText'\n",
      "> Overload resolution failed:\n",
      ">  - Can't convert object to 'str' for 'text'\n",
      ">  - Can't convert object to 'str' for 'text'\n",
      "\n"
     ]
    },
    {
     "name": "stderr",
     "output_type": "stream",
     "text": [
      "  0%|          | 0/1 [00:00<?, ?it/s]WARNING:root:Warning: NO FACE is detected\n",
      "100%|██████████| 1/1 [00:01<00:00,  1.45s/it]\n",
      "C:\\Users\\PC\\AppData\\Local\\Temp\\ipykernel_30888\\419020417.py:37: FutureWarning: The behavior of FexSeries.idxmax with all-NA values, or any-NA and skipna=False, is deprecated. In a future version this will raise ValueError\n",
      "  emotion = result.emotions.iloc[0].idxmax() # Emotion with highest score\n"
     ]
    },
    {
     "name": "stdout",
     "output_type": "stream",
     "text": [
      "Detection error: OpenCV(4.12.0) :-1: error: (-5:Bad argument) in function 'putText'\n",
      "> Overload resolution failed:\n",
      ">  - Can't convert object to 'str' for 'text'\n",
      ">  - Can't convert object to 'str' for 'text'\n",
      "\n"
     ]
    },
    {
     "name": "stderr",
     "output_type": "stream",
     "text": [
      "  0%|          | 0/1 [00:00<?, ?it/s]WARNING:root:Warning: NO FACE is detected\n",
      "100%|██████████| 1/1 [00:01<00:00,  1.39s/it]\n",
      "C:\\Users\\PC\\AppData\\Local\\Temp\\ipykernel_30888\\419020417.py:37: FutureWarning: The behavior of FexSeries.idxmax with all-NA values, or any-NA and skipna=False, is deprecated. In a future version this will raise ValueError\n",
      "  emotion = result.emotions.iloc[0].idxmax() # Emotion with highest score\n"
     ]
    },
    {
     "name": "stdout",
     "output_type": "stream",
     "text": [
      "Detection error: OpenCV(4.12.0) :-1: error: (-5:Bad argument) in function 'putText'\n",
      "> Overload resolution failed:\n",
      ">  - Can't convert object to 'str' for 'text'\n",
      ">  - Can't convert object to 'str' for 'text'\n",
      "\n"
     ]
    },
    {
     "name": "stderr",
     "output_type": "stream",
     "text": [
      "  0%|          | 0/1 [00:00<?, ?it/s]WARNING:root:Warning: NO FACE is detected\n",
      "100%|██████████| 1/1 [00:01<00:00,  1.43s/it]\n",
      "C:\\Users\\PC\\AppData\\Local\\Temp\\ipykernel_30888\\419020417.py:37: FutureWarning: The behavior of FexSeries.idxmax with all-NA values, or any-NA and skipna=False, is deprecated. In a future version this will raise ValueError\n",
      "  emotion = result.emotions.iloc[0].idxmax() # Emotion with highest score\n"
     ]
    },
    {
     "name": "stdout",
     "output_type": "stream",
     "text": [
      "Detection error: OpenCV(4.12.0) :-1: error: (-5:Bad argument) in function 'putText'\n",
      "> Overload resolution failed:\n",
      ">  - Can't convert object to 'str' for 'text'\n",
      ">  - Can't convert object to 'str' for 'text'\n",
      "\n"
     ]
    },
    {
     "name": "stderr",
     "output_type": "stream",
     "text": [
      "  0%|          | 0/1 [00:00<?, ?it/s]WARNING:root:Warning: NO FACE is detected\n",
      "100%|██████████| 1/1 [00:01<00:00,  1.45s/it]\n",
      "C:\\Users\\PC\\AppData\\Local\\Temp\\ipykernel_30888\\419020417.py:37: FutureWarning: The behavior of FexSeries.idxmax with all-NA values, or any-NA and skipna=False, is deprecated. In a future version this will raise ValueError\n",
      "  emotion = result.emotions.iloc[0].idxmax() # Emotion with highest score\n"
     ]
    },
    {
     "name": "stdout",
     "output_type": "stream",
     "text": [
      "Detection error: OpenCV(4.12.0) :-1: error: (-5:Bad argument) in function 'putText'\n",
      "> Overload resolution failed:\n",
      ">  - Can't convert object to 'str' for 'text'\n",
      ">  - Can't convert object to 'str' for 'text'\n",
      "\n"
     ]
    },
    {
     "name": "stderr",
     "output_type": "stream",
     "text": [
      "  0%|          | 0/1 [00:00<?, ?it/s]WARNING:root:Warning: NO FACE is detected\n",
      "100%|██████████| 1/1 [00:01<00:00,  1.44s/it]\n",
      "C:\\Users\\PC\\AppData\\Local\\Temp\\ipykernel_30888\\419020417.py:37: FutureWarning: The behavior of FexSeries.idxmax with all-NA values, or any-NA and skipna=False, is deprecated. In a future version this will raise ValueError\n",
      "  emotion = result.emotions.iloc[0].idxmax() # Emotion with highest score\n"
     ]
    },
    {
     "name": "stdout",
     "output_type": "stream",
     "text": [
      "Detection error: OpenCV(4.12.0) :-1: error: (-5:Bad argument) in function 'putText'\n",
      "> Overload resolution failed:\n",
      ">  - Can't convert object to 'str' for 'text'\n",
      ">  - Can't convert object to 'str' for 'text'\n",
      "\n"
     ]
    },
    {
     "name": "stderr",
     "output_type": "stream",
     "text": [
      "  0%|          | 0/1 [00:00<?, ?it/s]WARNING:root:Warning: NO FACE is detected\n",
      "100%|██████████| 1/1 [00:01<00:00,  1.48s/it]\n",
      "C:\\Users\\PC\\AppData\\Local\\Temp\\ipykernel_30888\\419020417.py:37: FutureWarning: The behavior of FexSeries.idxmax with all-NA values, or any-NA and skipna=False, is deprecated. In a future version this will raise ValueError\n",
      "  emotion = result.emotions.iloc[0].idxmax() # Emotion with highest score\n"
     ]
    },
    {
     "name": "stdout",
     "output_type": "stream",
     "text": [
      "Detection error: OpenCV(4.12.0) :-1: error: (-5:Bad argument) in function 'putText'\n",
      "> Overload resolution failed:\n",
      ">  - Can't convert object to 'str' for 'text'\n",
      ">  - Can't convert object to 'str' for 'text'\n",
      "\n"
     ]
    },
    {
     "name": "stderr",
     "output_type": "stream",
     "text": [
      "  0%|          | 0/1 [00:00<?, ?it/s]WARNING:root:Warning: NO FACE is detected\n",
      "100%|██████████| 1/1 [00:01<00:00,  1.35s/it]\n",
      "C:\\Users\\PC\\AppData\\Local\\Temp\\ipykernel_30888\\419020417.py:37: FutureWarning: The behavior of FexSeries.idxmax with all-NA values, or any-NA and skipna=False, is deprecated. In a future version this will raise ValueError\n",
      "  emotion = result.emotions.iloc[0].idxmax() # Emotion with highest score\n"
     ]
    },
    {
     "name": "stdout",
     "output_type": "stream",
     "text": [
      "Detection error: OpenCV(4.12.0) :-1: error: (-5:Bad argument) in function 'putText'\n",
      "> Overload resolution failed:\n",
      ">  - Can't convert object to 'str' for 'text'\n",
      ">  - Can't convert object to 'str' for 'text'\n",
      "\n"
     ]
    },
    {
     "name": "stderr",
     "output_type": "stream",
     "text": [
      "  0%|          | 0/1 [00:00<?, ?it/s]WARNING:root:Warning: NO FACE is detected\n",
      "100%|██████████| 1/1 [00:01<00:00,  1.39s/it]\n",
      "C:\\Users\\PC\\AppData\\Local\\Temp\\ipykernel_30888\\419020417.py:37: FutureWarning: The behavior of FexSeries.idxmax with all-NA values, or any-NA and skipna=False, is deprecated. In a future version this will raise ValueError\n",
      "  emotion = result.emotions.iloc[0].idxmax() # Emotion with highest score\n"
     ]
    },
    {
     "name": "stdout",
     "output_type": "stream",
     "text": [
      "Detection error: OpenCV(4.12.0) :-1: error: (-5:Bad argument) in function 'putText'\n",
      "> Overload resolution failed:\n",
      ">  - Can't convert object to 'str' for 'text'\n",
      ">  - Can't convert object to 'str' for 'text'\n",
      "\n"
     ]
    },
    {
     "name": "stderr",
     "output_type": "stream",
     "text": [
      "  0%|          | 0/1 [00:00<?, ?it/s]WARNING:root:Warning: NO FACE is detected\n",
      "100%|██████████| 1/1 [00:01<00:00,  1.40s/it]\n",
      "C:\\Users\\PC\\AppData\\Local\\Temp\\ipykernel_30888\\419020417.py:37: FutureWarning: The behavior of FexSeries.idxmax with all-NA values, or any-NA and skipna=False, is deprecated. In a future version this will raise ValueError\n",
      "  emotion = result.emotions.iloc[0].idxmax() # Emotion with highest score\n"
     ]
    },
    {
     "name": "stdout",
     "output_type": "stream",
     "text": [
      "Detection error: OpenCV(4.12.0) :-1: error: (-5:Bad argument) in function 'putText'\n",
      "> Overload resolution failed:\n",
      ">  - Can't convert object to 'str' for 'text'\n",
      ">  - Can't convert object to 'str' for 'text'\n",
      "\n"
     ]
    },
    {
     "name": "stderr",
     "output_type": "stream",
     "text": [
      "  0%|          | 0/1 [00:00<?, ?it/s]WARNING:root:Warning: NO FACE is detected\n",
      "100%|██████████| 1/1 [00:01<00:00,  1.35s/it]\n",
      "C:\\Users\\PC\\AppData\\Local\\Temp\\ipykernel_30888\\419020417.py:37: FutureWarning: The behavior of FexSeries.idxmax with all-NA values, or any-NA and skipna=False, is deprecated. In a future version this will raise ValueError\n",
      "  emotion = result.emotions.iloc[0].idxmax() # Emotion with highest score\n"
     ]
    },
    {
     "name": "stdout",
     "output_type": "stream",
     "text": [
      "Detection error: OpenCV(4.12.0) :-1: error: (-5:Bad argument) in function 'putText'\n",
      "> Overload resolution failed:\n",
      ">  - Can't convert object to 'str' for 'text'\n",
      ">  - Can't convert object to 'str' for 'text'\n",
      "\n"
     ]
    },
    {
     "name": "stderr",
     "output_type": "stream",
     "text": [
      "  0%|          | 0/1 [00:00<?, ?it/s]WARNING:root:Warning: NO FACE is detected\n",
      "100%|██████████| 1/1 [00:01<00:00,  1.36s/it]\n",
      "C:\\Users\\PC\\AppData\\Local\\Temp\\ipykernel_30888\\419020417.py:37: FutureWarning: The behavior of FexSeries.idxmax with all-NA values, or any-NA and skipna=False, is deprecated. In a future version this will raise ValueError\n",
      "  emotion = result.emotions.iloc[0].idxmax() # Emotion with highest score\n"
     ]
    },
    {
     "name": "stdout",
     "output_type": "stream",
     "text": [
      "Detection error: OpenCV(4.12.0) :-1: error: (-5:Bad argument) in function 'putText'\n",
      "> Overload resolution failed:\n",
      ">  - Can't convert object to 'str' for 'text'\n",
      ">  - Can't convert object to 'str' for 'text'\n",
      "\n"
     ]
    },
    {
     "name": "stderr",
     "output_type": "stream",
     "text": [
      "  0%|          | 0/1 [00:00<?, ?it/s]WARNING:root:Warning: NO FACE is detected\n",
      "100%|██████████| 1/1 [00:01<00:00,  1.37s/it]\n",
      "C:\\Users\\PC\\AppData\\Local\\Temp\\ipykernel_30888\\419020417.py:37: FutureWarning: The behavior of FexSeries.idxmax with all-NA values, or any-NA and skipna=False, is deprecated. In a future version this will raise ValueError\n",
      "  emotion = result.emotions.iloc[0].idxmax() # Emotion with highest score\n"
     ]
    },
    {
     "name": "stdout",
     "output_type": "stream",
     "text": [
      "Detection error: OpenCV(4.12.0) :-1: error: (-5:Bad argument) in function 'putText'\n",
      "> Overload resolution failed:\n",
      ">  - Can't convert object to 'str' for 'text'\n",
      ">  - Can't convert object to 'str' for 'text'\n",
      "\n"
     ]
    },
    {
     "name": "stderr",
     "output_type": "stream",
     "text": [
      "  0%|          | 0/1 [00:00<?, ?it/s]WARNING:root:Warning: NO FACE is detected\n",
      "100%|██████████| 1/1 [00:01<00:00,  1.38s/it]\n",
      "C:\\Users\\PC\\AppData\\Local\\Temp\\ipykernel_30888\\419020417.py:37: FutureWarning: The behavior of FexSeries.idxmax with all-NA values, or any-NA and skipna=False, is deprecated. In a future version this will raise ValueError\n",
      "  emotion = result.emotions.iloc[0].idxmax() # Emotion with highest score\n"
     ]
    },
    {
     "name": "stdout",
     "output_type": "stream",
     "text": [
      "Detection error: OpenCV(4.12.0) :-1: error: (-5:Bad argument) in function 'putText'\n",
      "> Overload resolution failed:\n",
      ">  - Can't convert object to 'str' for 'text'\n",
      ">  - Can't convert object to 'str' for 'text'\n",
      "\n"
     ]
    },
    {
     "name": "stderr",
     "output_type": "stream",
     "text": [
      "  0%|          | 0/1 [00:00<?, ?it/s]WARNING:root:Warning: NO FACE is detected\n",
      "100%|██████████| 1/1 [00:01<00:00,  1.37s/it]\n",
      "C:\\Users\\PC\\AppData\\Local\\Temp\\ipykernel_30888\\419020417.py:37: FutureWarning: The behavior of FexSeries.idxmax with all-NA values, or any-NA and skipna=False, is deprecated. In a future version this will raise ValueError\n",
      "  emotion = result.emotions.iloc[0].idxmax() # Emotion with highest score\n"
     ]
    },
    {
     "name": "stdout",
     "output_type": "stream",
     "text": [
      "Detection error: OpenCV(4.12.0) :-1: error: (-5:Bad argument) in function 'putText'\n",
      "> Overload resolution failed:\n",
      ">  - Can't convert object to 'str' for 'text'\n",
      ">  - Can't convert object to 'str' for 'text'\n",
      "\n"
     ]
    },
    {
     "name": "stderr",
     "output_type": "stream",
     "text": [
      "  0%|          | 0/1 [00:00<?, ?it/s]WARNING:root:Warning: NO FACE is detected\n",
      "100%|██████████| 1/1 [00:01<00:00,  1.40s/it]\n",
      "C:\\Users\\PC\\AppData\\Local\\Temp\\ipykernel_30888\\419020417.py:37: FutureWarning: The behavior of FexSeries.idxmax with all-NA values, or any-NA and skipna=False, is deprecated. In a future version this will raise ValueError\n",
      "  emotion = result.emotions.iloc[0].idxmax() # Emotion with highest score\n"
     ]
    },
    {
     "name": "stdout",
     "output_type": "stream",
     "text": [
      "Detection error: OpenCV(4.12.0) :-1: error: (-5:Bad argument) in function 'putText'\n",
      "> Overload resolution failed:\n",
      ">  - Can't convert object to 'str' for 'text'\n",
      ">  - Can't convert object to 'str' for 'text'\n",
      "\n"
     ]
    },
    {
     "name": "stderr",
     "output_type": "stream",
     "text": [
      "  0%|          | 0/1 [00:00<?, ?it/s]WARNING:root:Warning: NO FACE is detected\n",
      "100%|██████████| 1/1 [00:01<00:00,  1.37s/it]\n",
      "C:\\Users\\PC\\AppData\\Local\\Temp\\ipykernel_30888\\419020417.py:37: FutureWarning: The behavior of FexSeries.idxmax with all-NA values, or any-NA and skipna=False, is deprecated. In a future version this will raise ValueError\n",
      "  emotion = result.emotions.iloc[0].idxmax() # Emotion with highest score\n"
     ]
    },
    {
     "name": "stdout",
     "output_type": "stream",
     "text": [
      "Detection error: OpenCV(4.12.0) :-1: error: (-5:Bad argument) in function 'putText'\n",
      "> Overload resolution failed:\n",
      ">  - Can't convert object to 'str' for 'text'\n",
      ">  - Can't convert object to 'str' for 'text'\n",
      "\n"
     ]
    },
    {
     "name": "stderr",
     "output_type": "stream",
     "text": [
      "  0%|          | 0/1 [00:00<?, ?it/s]WARNING:root:Warning: NO FACE is detected\n",
      "100%|██████████| 1/1 [00:01<00:00,  1.34s/it]\n",
      "C:\\Users\\PC\\AppData\\Local\\Temp\\ipykernel_30888\\419020417.py:37: FutureWarning: The behavior of FexSeries.idxmax with all-NA values, or any-NA and skipna=False, is deprecated. In a future version this will raise ValueError\n",
      "  emotion = result.emotions.iloc[0].idxmax() # Emotion with highest score\n"
     ]
    },
    {
     "name": "stdout",
     "output_type": "stream",
     "text": [
      "Detection error: OpenCV(4.12.0) :-1: error: (-5:Bad argument) in function 'putText'\n",
      "> Overload resolution failed:\n",
      ">  - Can't convert object to 'str' for 'text'\n",
      ">  - Can't convert object to 'str' for 'text'\n",
      "\n"
     ]
    },
    {
     "name": "stderr",
     "output_type": "stream",
     "text": [
      "  0%|          | 0/1 [00:00<?, ?it/s]WARNING:root:Warning: NO FACE is detected\n",
      "100%|██████████| 1/1 [00:01<00:00,  1.41s/it]\n",
      "C:\\Users\\PC\\AppData\\Local\\Temp\\ipykernel_30888\\419020417.py:37: FutureWarning: The behavior of FexSeries.idxmax with all-NA values, or any-NA and skipna=False, is deprecated. In a future version this will raise ValueError\n",
      "  emotion = result.emotions.iloc[0].idxmax() # Emotion with highest score\n"
     ]
    },
    {
     "name": "stdout",
     "output_type": "stream",
     "text": [
      "Detection error: OpenCV(4.12.0) :-1: error: (-5:Bad argument) in function 'putText'\n",
      "> Overload resolution failed:\n",
      ">  - Can't convert object to 'str' for 'text'\n",
      ">  - Can't convert object to 'str' for 'text'\n",
      "\n"
     ]
    },
    {
     "name": "stderr",
     "output_type": "stream",
     "text": [
      "  0%|          | 0/1 [00:00<?, ?it/s]WARNING:root:Warning: NO FACE is detected\n",
      "100%|██████████| 1/1 [00:01<00:00,  1.36s/it]\n",
      "C:\\Users\\PC\\AppData\\Local\\Temp\\ipykernel_30888\\419020417.py:37: FutureWarning: The behavior of FexSeries.idxmax with all-NA values, or any-NA and skipna=False, is deprecated. In a future version this will raise ValueError\n",
      "  emotion = result.emotions.iloc[0].idxmax() # Emotion with highest score\n"
     ]
    },
    {
     "name": "stdout",
     "output_type": "stream",
     "text": [
      "Detection error: OpenCV(4.12.0) :-1: error: (-5:Bad argument) in function 'putText'\n",
      "> Overload resolution failed:\n",
      ">  - Can't convert object to 'str' for 'text'\n",
      ">  - Can't convert object to 'str' for 'text'\n",
      "\n"
     ]
    },
    {
     "name": "stderr",
     "output_type": "stream",
     "text": [
      "  0%|          | 0/1 [00:00<?, ?it/s]WARNING:root:Warning: NO FACE is detected\n",
      "100%|██████████| 1/1 [00:01<00:00,  1.36s/it]\n",
      "C:\\Users\\PC\\AppData\\Local\\Temp\\ipykernel_30888\\419020417.py:37: FutureWarning: The behavior of FexSeries.idxmax with all-NA values, or any-NA and skipna=False, is deprecated. In a future version this will raise ValueError\n",
      "  emotion = result.emotions.iloc[0].idxmax() # Emotion with highest score\n"
     ]
    },
    {
     "name": "stdout",
     "output_type": "stream",
     "text": [
      "Detection error: OpenCV(4.12.0) :-1: error: (-5:Bad argument) in function 'putText'\n",
      "> Overload resolution failed:\n",
      ">  - Can't convert object to 'str' for 'text'\n",
      ">  - Can't convert object to 'str' for 'text'\n",
      "\n"
     ]
    },
    {
     "name": "stderr",
     "output_type": "stream",
     "text": [
      "  0%|          | 0/1 [00:00<?, ?it/s]WARNING:root:Warning: NO FACE is detected\n",
      "100%|██████████| 1/1 [00:01<00:00,  1.37s/it]\n",
      "C:\\Users\\PC\\AppData\\Local\\Temp\\ipykernel_30888\\419020417.py:37: FutureWarning: The behavior of FexSeries.idxmax with all-NA values, or any-NA and skipna=False, is deprecated. In a future version this will raise ValueError\n",
      "  emotion = result.emotions.iloc[0].idxmax() # Emotion with highest score\n"
     ]
    },
    {
     "name": "stdout",
     "output_type": "stream",
     "text": [
      "Detection error: OpenCV(4.12.0) :-1: error: (-5:Bad argument) in function 'putText'\n",
      "> Overload resolution failed:\n",
      ">  - Can't convert object to 'str' for 'text'\n",
      ">  - Can't convert object to 'str' for 'text'\n",
      "\n"
     ]
    },
    {
     "name": "stderr",
     "output_type": "stream",
     "text": [
      "  0%|          | 0/1 [00:00<?, ?it/s]WARNING:root:Warning: NO FACE is detected\n",
      "100%|██████████| 1/1 [00:01<00:00,  1.40s/it]\n",
      "C:\\Users\\PC\\AppData\\Local\\Temp\\ipykernel_30888\\419020417.py:37: FutureWarning: The behavior of FexSeries.idxmax with all-NA values, or any-NA and skipna=False, is deprecated. In a future version this will raise ValueError\n",
      "  emotion = result.emotions.iloc[0].idxmax() # Emotion with highest score\n"
     ]
    },
    {
     "name": "stdout",
     "output_type": "stream",
     "text": [
      "Detection error: OpenCV(4.12.0) :-1: error: (-5:Bad argument) in function 'putText'\n",
      "> Overload resolution failed:\n",
      ">  - Can't convert object to 'str' for 'text'\n",
      ">  - Can't convert object to 'str' for 'text'\n",
      "\n"
     ]
    },
    {
     "name": "stderr",
     "output_type": "stream",
     "text": [
      "  0%|          | 0/1 [00:00<?, ?it/s]WARNING:root:Warning: NO FACE is detected\n",
      "100%|██████████| 1/1 [00:01<00:00,  1.37s/it]\n",
      "C:\\Users\\PC\\AppData\\Local\\Temp\\ipykernel_30888\\419020417.py:37: FutureWarning: The behavior of FexSeries.idxmax with all-NA values, or any-NA and skipna=False, is deprecated. In a future version this will raise ValueError\n",
      "  emotion = result.emotions.iloc[0].idxmax() # Emotion with highest score\n"
     ]
    },
    {
     "name": "stdout",
     "output_type": "stream",
     "text": [
      "Detection error: OpenCV(4.12.0) :-1: error: (-5:Bad argument) in function 'putText'\n",
      "> Overload resolution failed:\n",
      ">  - Can't convert object to 'str' for 'text'\n",
      ">  - Can't convert object to 'str' for 'text'\n",
      "\n"
     ]
    },
    {
     "name": "stderr",
     "output_type": "stream",
     "text": [
      "  0%|          | 0/1 [00:00<?, ?it/s]WARNING:root:Warning: NO FACE is detected\n",
      "100%|██████████| 1/1 [00:01<00:00,  1.42s/it]\n",
      "C:\\Users\\PC\\AppData\\Local\\Temp\\ipykernel_30888\\419020417.py:37: FutureWarning: The behavior of FexSeries.idxmax with all-NA values, or any-NA and skipna=False, is deprecated. In a future version this will raise ValueError\n",
      "  emotion = result.emotions.iloc[0].idxmax() # Emotion with highest score\n"
     ]
    },
    {
     "name": "stdout",
     "output_type": "stream",
     "text": [
      "Detection error: OpenCV(4.12.0) :-1: error: (-5:Bad argument) in function 'putText'\n",
      "> Overload resolution failed:\n",
      ">  - Can't convert object to 'str' for 'text'\n",
      ">  - Can't convert object to 'str' for 'text'\n",
      "\n"
     ]
    },
    {
     "name": "stderr",
     "output_type": "stream",
     "text": [
      "  0%|          | 0/1 [00:00<?, ?it/s]WARNING:root:Warning: NO FACE is detected\n",
      "100%|██████████| 1/1 [00:01<00:00,  1.42s/it]\n",
      "C:\\Users\\PC\\AppData\\Local\\Temp\\ipykernel_30888\\419020417.py:37: FutureWarning: The behavior of FexSeries.idxmax with all-NA values, or any-NA and skipna=False, is deprecated. In a future version this will raise ValueError\n",
      "  emotion = result.emotions.iloc[0].idxmax() # Emotion with highest score\n"
     ]
    },
    {
     "name": "stdout",
     "output_type": "stream",
     "text": [
      "Detection error: OpenCV(4.12.0) :-1: error: (-5:Bad argument) in function 'putText'\n",
      "> Overload resolution failed:\n",
      ">  - Can't convert object to 'str' for 'text'\n",
      ">  - Can't convert object to 'str' for 'text'\n",
      "\n"
     ]
    },
    {
     "name": "stderr",
     "output_type": "stream",
     "text": [
      "  0%|          | 0/1 [00:00<?, ?it/s]WARNING:root:Warning: NO FACE is detected\n",
      "100%|██████████| 1/1 [00:01<00:00,  1.40s/it]\n",
      "C:\\Users\\PC\\AppData\\Local\\Temp\\ipykernel_30888\\419020417.py:37: FutureWarning: The behavior of FexSeries.idxmax with all-NA values, or any-NA and skipna=False, is deprecated. In a future version this will raise ValueError\n",
      "  emotion = result.emotions.iloc[0].idxmax() # Emotion with highest score\n"
     ]
    },
    {
     "name": "stdout",
     "output_type": "stream",
     "text": [
      "Detection error: OpenCV(4.12.0) :-1: error: (-5:Bad argument) in function 'putText'\n",
      "> Overload resolution failed:\n",
      ">  - Can't convert object to 'str' for 'text'\n",
      ">  - Can't convert object to 'str' for 'text'\n",
      "\n"
     ]
    },
    {
     "name": "stderr",
     "output_type": "stream",
     "text": [
      "  0%|          | 0/1 [00:00<?, ?it/s]WARNING:root:Warning: NO FACE is detected\n",
      "100%|██████████| 1/1 [00:01<00:00,  1.36s/it]\n",
      "C:\\Users\\PC\\AppData\\Local\\Temp\\ipykernel_30888\\419020417.py:37: FutureWarning: The behavior of FexSeries.idxmax with all-NA values, or any-NA and skipna=False, is deprecated. In a future version this will raise ValueError\n",
      "  emotion = result.emotions.iloc[0].idxmax() # Emotion with highest score\n"
     ]
    },
    {
     "name": "stdout",
     "output_type": "stream",
     "text": [
      "Detection error: OpenCV(4.12.0) :-1: error: (-5:Bad argument) in function 'putText'\n",
      "> Overload resolution failed:\n",
      ">  - Can't convert object to 'str' for 'text'\n",
      ">  - Can't convert object to 'str' for 'text'\n",
      "\n"
     ]
    },
    {
     "name": "stderr",
     "output_type": "stream",
     "text": [
      "  0%|          | 0/1 [00:00<?, ?it/s]WARNING:root:Warning: NO FACE is detected\n",
      "100%|██████████| 1/1 [00:00<00:00,  1.25it/s]\n",
      "C:\\Users\\PC\\AppData\\Local\\Temp\\ipykernel_30888\\419020417.py:37: FutureWarning: The behavior of FexSeries.idxmax with all-NA values, or any-NA and skipna=False, is deprecated. In a future version this will raise ValueError\n",
      "  emotion = result.emotions.iloc[0].idxmax() # Emotion with highest score\n"
     ]
    },
    {
     "name": "stdout",
     "output_type": "stream",
     "text": [
      "Detection error: OpenCV(4.12.0) :-1: error: (-5:Bad argument) in function 'putText'\n",
      "> Overload resolution failed:\n",
      ">  - Can't convert object to 'str' for 'text'\n",
      ">  - Can't convert object to 'str' for 'text'\n",
      "\n"
     ]
    },
    {
     "name": "stderr",
     "output_type": "stream",
     "text": [
      "  0%|          | 0/1 [00:00<?, ?it/s]WARNING:root:Warning: NO FACE is detected\n",
      "100%|██████████| 1/1 [00:01<00:00,  1.42s/it]\n",
      "C:\\Users\\PC\\AppData\\Local\\Temp\\ipykernel_30888\\419020417.py:37: FutureWarning: The behavior of FexSeries.idxmax with all-NA values, or any-NA and skipna=False, is deprecated. In a future version this will raise ValueError\n",
      "  emotion = result.emotions.iloc[0].idxmax() # Emotion with highest score\n"
     ]
    },
    {
     "name": "stdout",
     "output_type": "stream",
     "text": [
      "Detection error: OpenCV(4.12.0) :-1: error: (-5:Bad argument) in function 'putText'\n",
      "> Overload resolution failed:\n",
      ">  - Can't convert object to 'str' for 'text'\n",
      ">  - Can't convert object to 'str' for 'text'\n",
      "\n"
     ]
    },
    {
     "name": "stderr",
     "output_type": "stream",
     "text": [
      "  0%|          | 0/1 [00:00<?, ?it/s]WARNING:root:Warning: NO FACE is detected\n",
      "100%|██████████| 1/1 [00:01<00:00,  1.36s/it]\n",
      "C:\\Users\\PC\\AppData\\Local\\Temp\\ipykernel_30888\\419020417.py:37: FutureWarning: The behavior of FexSeries.idxmax with all-NA values, or any-NA and skipna=False, is deprecated. In a future version this will raise ValueError\n",
      "  emotion = result.emotions.iloc[0].idxmax() # Emotion with highest score\n"
     ]
    },
    {
     "name": "stdout",
     "output_type": "stream",
     "text": [
      "Detection error: OpenCV(4.12.0) :-1: error: (-5:Bad argument) in function 'putText'\n",
      "> Overload resolution failed:\n",
      ">  - Can't convert object to 'str' for 'text'\n",
      ">  - Can't convert object to 'str' for 'text'\n",
      "\n"
     ]
    },
    {
     "name": "stderr",
     "output_type": "stream",
     "text": [
      "  0%|          | 0/1 [00:00<?, ?it/s]WARNING:root:Warning: NO FACE is detected\n",
      "100%|██████████| 1/1 [00:01<00:00,  1.36s/it]\n",
      "C:\\Users\\PC\\AppData\\Local\\Temp\\ipykernel_30888\\419020417.py:37: FutureWarning: The behavior of FexSeries.idxmax with all-NA values, or any-NA and skipna=False, is deprecated. In a future version this will raise ValueError\n",
      "  emotion = result.emotions.iloc[0].idxmax() # Emotion with highest score\n"
     ]
    },
    {
     "name": "stdout",
     "output_type": "stream",
     "text": [
      "Detection error: OpenCV(4.12.0) :-1: error: (-5:Bad argument) in function 'putText'\n",
      "> Overload resolution failed:\n",
      ">  - Can't convert object to 'str' for 'text'\n",
      ">  - Can't convert object to 'str' for 'text'\n",
      "\n"
     ]
    },
    {
     "name": "stderr",
     "output_type": "stream",
     "text": [
      "  0%|          | 0/1 [00:00<?, ?it/s]WARNING:root:Warning: NO FACE is detected\n",
      "100%|██████████| 1/1 [00:01<00:00,  1.38s/it]\n",
      "C:\\Users\\PC\\AppData\\Local\\Temp\\ipykernel_30888\\419020417.py:37: FutureWarning: The behavior of FexSeries.idxmax with all-NA values, or any-NA and skipna=False, is deprecated. In a future version this will raise ValueError\n",
      "  emotion = result.emotions.iloc[0].idxmax() # Emotion with highest score\n"
     ]
    },
    {
     "name": "stdout",
     "output_type": "stream",
     "text": [
      "Detection error: OpenCV(4.12.0) :-1: error: (-5:Bad argument) in function 'putText'\n",
      "> Overload resolution failed:\n",
      ">  - Can't convert object to 'str' for 'text'\n",
      ">  - Can't convert object to 'str' for 'text'\n",
      "\n"
     ]
    },
    {
     "name": "stderr",
     "output_type": "stream",
     "text": [
      "  0%|          | 0/1 [00:00<?, ?it/s]WARNING:root:Warning: NO FACE is detected\n",
      "100%|██████████| 1/1 [00:01<00:00,  1.38s/it]\n",
      "C:\\Users\\PC\\AppData\\Local\\Temp\\ipykernel_30888\\419020417.py:37: FutureWarning: The behavior of FexSeries.idxmax with all-NA values, or any-NA and skipna=False, is deprecated. In a future version this will raise ValueError\n",
      "  emotion = result.emotions.iloc[0].idxmax() # Emotion with highest score\n"
     ]
    },
    {
     "name": "stdout",
     "output_type": "stream",
     "text": [
      "Detection error: OpenCV(4.12.0) :-1: error: (-5:Bad argument) in function 'putText'\n",
      "> Overload resolution failed:\n",
      ">  - Can't convert object to 'str' for 'text'\n",
      ">  - Can't convert object to 'str' for 'text'\n",
      "\n"
     ]
    },
    {
     "name": "stderr",
     "output_type": "stream",
     "text": [
      "100%|██████████| 1/1 [00:01<00:00,  1.00s/it]\n",
      "100%|██████████| 1/1 [00:01<00:00,  1.03s/it]\n",
      "100%|██████████| 1/1 [00:01<00:00,  1.04s/it]\n",
      "100%|██████████| 1/1 [00:01<00:00,  1.01s/it]\n",
      "100%|██████████| 1/1 [00:00<00:00,  1.01it/s]\n",
      "  0%|          | 0/1 [00:00<?, ?it/s]WARNING:root:Warning: NO FACE is detected\n",
      "100%|██████████| 1/1 [00:01<00:00,  1.38s/it]\n",
      "C:\\Users\\PC\\AppData\\Local\\Temp\\ipykernel_30888\\419020417.py:37: FutureWarning: The behavior of FexSeries.idxmax with all-NA values, or any-NA and skipna=False, is deprecated. In a future version this will raise ValueError\n",
      "  emotion = result.emotions.iloc[0].idxmax() # Emotion with highest score\n"
     ]
    },
    {
     "name": "stdout",
     "output_type": "stream",
     "text": [
      "Detection error: OpenCV(4.12.0) :-1: error: (-5:Bad argument) in function 'putText'\n",
      "> Overload resolution failed:\n",
      ">  - Can't convert object to 'str' for 'text'\n",
      ">  - Can't convert object to 'str' for 'text'\n",
      "\n"
     ]
    },
    {
     "name": "stderr",
     "output_type": "stream",
     "text": [
      "  0%|          | 0/1 [00:00<?, ?it/s]WARNING:root:Warning: NO FACE is detected\n",
      "100%|██████████| 1/1 [00:01<00:00,  1.38s/it]\n",
      "C:\\Users\\PC\\AppData\\Local\\Temp\\ipykernel_30888\\419020417.py:37: FutureWarning: The behavior of FexSeries.idxmax with all-NA values, or any-NA and skipna=False, is deprecated. In a future version this will raise ValueError\n",
      "  emotion = result.emotions.iloc[0].idxmax() # Emotion with highest score\n"
     ]
    },
    {
     "name": "stdout",
     "output_type": "stream",
     "text": [
      "Detection error: OpenCV(4.12.0) :-1: error: (-5:Bad argument) in function 'putText'\n",
      "> Overload resolution failed:\n",
      ">  - Can't convert object to 'str' for 'text'\n",
      ">  - Can't convert object to 'str' for 'text'\n",
      "\n"
     ]
    },
    {
     "name": "stderr",
     "output_type": "stream",
     "text": [
      "  0%|          | 0/1 [00:00<?, ?it/s]WARNING:root:Warning: NO FACE is detected\n",
      "100%|██████████| 1/1 [00:01<00:00,  1.37s/it]\n",
      "C:\\Users\\PC\\AppData\\Local\\Temp\\ipykernel_30888\\419020417.py:37: FutureWarning: The behavior of FexSeries.idxmax with all-NA values, or any-NA and skipna=False, is deprecated. In a future version this will raise ValueError\n",
      "  emotion = result.emotions.iloc[0].idxmax() # Emotion with highest score\n"
     ]
    },
    {
     "name": "stdout",
     "output_type": "stream",
     "text": [
      "Detection error: OpenCV(4.12.0) :-1: error: (-5:Bad argument) in function 'putText'\n",
      "> Overload resolution failed:\n",
      ">  - Can't convert object to 'str' for 'text'\n",
      ">  - Can't convert object to 'str' for 'text'\n",
      "\n"
     ]
    },
    {
     "name": "stderr",
     "output_type": "stream",
     "text": [
      "  0%|          | 0/1 [00:00<?, ?it/s]WARNING:root:Warning: NO FACE is detected\n",
      "100%|██████████| 1/1 [00:01<00:00,  1.35s/it]\n",
      "C:\\Users\\PC\\AppData\\Local\\Temp\\ipykernel_30888\\419020417.py:37: FutureWarning: The behavior of FexSeries.idxmax with all-NA values, or any-NA and skipna=False, is deprecated. In a future version this will raise ValueError\n",
      "  emotion = result.emotions.iloc[0].idxmax() # Emotion with highest score\n"
     ]
    },
    {
     "name": "stdout",
     "output_type": "stream",
     "text": [
      "Detection error: OpenCV(4.12.0) :-1: error: (-5:Bad argument) in function 'putText'\n",
      "> Overload resolution failed:\n",
      ">  - Can't convert object to 'str' for 'text'\n",
      ">  - Can't convert object to 'str' for 'text'\n",
      "\n"
     ]
    },
    {
     "name": "stderr",
     "output_type": "stream",
     "text": [
      "  0%|          | 0/1 [00:00<?, ?it/s]WARNING:root:Warning: NO FACE is detected\n",
      "100%|██████████| 1/1 [00:01<00:00,  1.37s/it]\n",
      "C:\\Users\\PC\\AppData\\Local\\Temp\\ipykernel_30888\\419020417.py:37: FutureWarning: The behavior of FexSeries.idxmax with all-NA values, or any-NA and skipna=False, is deprecated. In a future version this will raise ValueError\n",
      "  emotion = result.emotions.iloc[0].idxmax() # Emotion with highest score\n"
     ]
    },
    {
     "name": "stdout",
     "output_type": "stream",
     "text": [
      "Detection error: OpenCV(4.12.0) :-1: error: (-5:Bad argument) in function 'putText'\n",
      "> Overload resolution failed:\n",
      ">  - Can't convert object to 'str' for 'text'\n",
      ">  - Can't convert object to 'str' for 'text'\n",
      "\n"
     ]
    },
    {
     "name": "stderr",
     "output_type": "stream",
     "text": [
      "100%|██████████| 1/1 [00:01<00:00,  1.01s/it]\n",
      "100%|██████████| 1/1 [00:01<00:00,  1.02s/it]\n",
      "100%|██████████| 1/1 [00:01<00:00,  1.05s/it]\n",
      "100%|██████████| 1/1 [00:01<00:00,  1.03s/it]\n",
      "100%|██████████| 1/1 [00:01<00:00,  1.09s/it]\n",
      "100%|██████████| 1/1 [00:01<00:00,  1.02s/it]\n",
      "100%|██████████| 1/1 [00:01<00:00,  1.02s/it]\n",
      "100%|██████████| 1/1 [00:01<00:00,  1.01s/it]\n",
      "100%|██████████| 1/1 [00:01<00:00,  1.02s/it]\n",
      "100%|██████████| 1/1 [00:00<00:00,  1.00it/s]\n",
      "100%|██████████| 1/1 [00:00<00:00,  1.01it/s]\n",
      "100%|██████████| 1/1 [00:01<00:00,  1.00s/it]\n",
      "100%|██████████| 1/1 [00:01<00:00,  1.26s/it]\n",
      "100%|██████████| 1/1 [00:00<00:00,  1.00it/s]\n",
      "100%|██████████| 1/1 [00:00<00:00,  1.01it/s]\n",
      "100%|██████████| 1/1 [00:01<00:00,  1.04s/it]\n",
      "100%|██████████| 1/1 [00:00<00:00,  1.01it/s]\n",
      "100%|██████████| 1/1 [00:00<00:00,  1.02it/s]\n",
      "100%|██████████| 1/1 [00:01<00:00,  1.05s/it]\n",
      "  0%|          | 0/1 [00:00<?, ?it/s]WARNING:root:Warning: NO FACE is detected\n",
      "100%|██████████| 1/1 [00:01<00:00,  1.36s/it]\n",
      "C:\\Users\\PC\\AppData\\Local\\Temp\\ipykernel_30888\\419020417.py:37: FutureWarning: The behavior of FexSeries.idxmax with all-NA values, or any-NA and skipna=False, is deprecated. In a future version this will raise ValueError\n",
      "  emotion = result.emotions.iloc[0].idxmax() # Emotion with highest score\n"
     ]
    },
    {
     "name": "stdout",
     "output_type": "stream",
     "text": [
      "Detection error: OpenCV(4.12.0) :-1: error: (-5:Bad argument) in function 'putText'\n",
      "> Overload resolution failed:\n",
      ">  - Can't convert object to 'str' for 'text'\n",
      ">  - Can't convert object to 'str' for 'text'\n",
      "\n"
     ]
    },
    {
     "name": "stderr",
     "output_type": "stream",
     "text": [
      "  0%|          | 0/1 [00:00<?, ?it/s]WARNING:root:Warning: NO FACE is detected\n",
      "100%|██████████| 1/1 [00:00<00:00,  1.32it/s]\n",
      "C:\\Users\\PC\\AppData\\Local\\Temp\\ipykernel_30888\\419020417.py:37: FutureWarning: The behavior of FexSeries.idxmax with all-NA values, or any-NA and skipna=False, is deprecated. In a future version this will raise ValueError\n",
      "  emotion = result.emotions.iloc[0].idxmax() # Emotion with highest score\n"
     ]
    },
    {
     "name": "stdout",
     "output_type": "stream",
     "text": [
      "Detection error: OpenCV(4.12.0) :-1: error: (-5:Bad argument) in function 'putText'\n",
      "> Overload resolution failed:\n",
      ">  - Can't convert object to 'str' for 'text'\n",
      ">  - Can't convert object to 'str' for 'text'\n",
      "\n"
     ]
    },
    {
     "name": "stderr",
     "output_type": "stream",
     "text": [
      "  0%|          | 0/1 [00:00<?, ?it/s]WARNING:root:Warning: NO FACE is detected\n",
      "100%|██████████| 1/1 [00:00<00:00,  1.27it/s]\n",
      "C:\\Users\\PC\\AppData\\Local\\Temp\\ipykernel_30888\\419020417.py:37: FutureWarning: The behavior of FexSeries.idxmax with all-NA values, or any-NA and skipna=False, is deprecated. In a future version this will raise ValueError\n",
      "  emotion = result.emotions.iloc[0].idxmax() # Emotion with highest score\n"
     ]
    },
    {
     "name": "stdout",
     "output_type": "stream",
     "text": [
      "Detection error: OpenCV(4.12.0) :-1: error: (-5:Bad argument) in function 'putText'\n",
      "> Overload resolution failed:\n",
      ">  - Can't convert object to 'str' for 'text'\n",
      ">  - Can't convert object to 'str' for 'text'\n",
      "\n"
     ]
    },
    {
     "name": "stderr",
     "output_type": "stream",
     "text": [
      "100%|██████████| 1/1 [00:01<00:00,  1.02s/it]\n",
      "100%|██████████| 1/1 [00:01<00:00,  1.02s/it]\n",
      "100%|██████████| 1/1 [00:01<00:00,  1.03s/it]\n",
      "100%|██████████| 1/1 [00:00<00:00,  1.01it/s]\n",
      "100%|██████████| 1/1 [00:01<00:00,  1.01s/it]\n",
      "100%|██████████| 1/1 [00:01<00:00,  1.01s/it]\n",
      "100%|██████████| 1/1 [00:01<00:00,  1.02s/it]\n",
      "100%|██████████| 1/1 [00:01<00:00,  1.01s/it]\n",
      "100%|██████████| 1/1 [00:01<00:00,  1.02s/it]\n",
      "100%|██████████| 1/1 [00:01<00:00,  1.00s/it]\n",
      "100%|██████████| 1/1 [00:01<00:00,  1.02s/it]\n",
      "100%|██████████| 1/1 [00:01<00:00,  1.00s/it]\n",
      "100%|██████████| 1/1 [00:01<00:00,  1.03s/it]\n",
      "  0%|          | 0/1 [00:00<?, ?it/s]WARNING:root:Warning: NO FACE is detected\n",
      "100%|██████████| 1/1 [00:00<00:00,  1.27it/s]\n",
      "C:\\Users\\PC\\AppData\\Local\\Temp\\ipykernel_30888\\419020417.py:37: FutureWarning: The behavior of FexSeries.idxmax with all-NA values, or any-NA and skipna=False, is deprecated. In a future version this will raise ValueError\n",
      "  emotion = result.emotions.iloc[0].idxmax() # Emotion with highest score\n"
     ]
    },
    {
     "name": "stdout",
     "output_type": "stream",
     "text": [
      "Detection error: OpenCV(4.12.0) :-1: error: (-5:Bad argument) in function 'putText'\n",
      "> Overload resolution failed:\n",
      ">  - Can't convert object to 'str' for 'text'\n",
      ">  - Can't convert object to 'str' for 'text'\n",
      "\n"
     ]
    },
    {
     "name": "stderr",
     "output_type": "stream",
     "text": [
      "100%|██████████| 1/1 [00:01<00:00,  1.01s/it]\n",
      "100%|██████████| 1/1 [00:01<00:00,  1.25s/it]\n",
      "  0%|          | 0/1 [00:00<?, ?it/s]WARNING:root:Warning: NO FACE is detected\n",
      "100%|██████████| 1/1 [00:00<00:00,  1.29it/s]\n",
      "C:\\Users\\PC\\AppData\\Local\\Temp\\ipykernel_30888\\419020417.py:37: FutureWarning: The behavior of FexSeries.idxmax with all-NA values, or any-NA and skipna=False, is deprecated. In a future version this will raise ValueError\n",
      "  emotion = result.emotions.iloc[0].idxmax() # Emotion with highest score\n"
     ]
    },
    {
     "name": "stdout",
     "output_type": "stream",
     "text": [
      "Detection error: OpenCV(4.12.0) :-1: error: (-5:Bad argument) in function 'putText'\n",
      "> Overload resolution failed:\n",
      ">  - Can't convert object to 'str' for 'text'\n",
      ">  - Can't convert object to 'str' for 'text'\n",
      "\n"
     ]
    },
    {
     "name": "stderr",
     "output_type": "stream",
     "text": [
      "100%|██████████| 1/1 [00:00<00:00,  1.01it/s]\n",
      "100%|██████████| 1/1 [00:01<00:00,  1.06s/it]\n",
      "100%|██████████| 1/1 [00:01<00:00,  1.03s/it]\n",
      "100%|██████████| 1/1 [00:01<00:00,  1.02s/it]\n",
      "100%|██████████| 1/1 [00:00<00:00,  1.00it/s]\n",
      "100%|██████████| 1/1 [00:00<00:00,  1.01it/s]\n",
      "100%|██████████| 1/1 [00:00<00:00,  1.00it/s]\n",
      "100%|██████████| 1/1 [00:01<00:00,  1.00s/it]\n",
      "100%|██████████| 1/1 [00:00<00:00,  1.01it/s]\n",
      "100%|██████████| 1/1 [00:01<00:00,  1.01s/it]\n",
      "100%|██████████| 1/1 [00:01<00:00,  1.08s/it]\n",
      "100%|██████████| 1/1 [00:01<00:00,  1.21s/it]\n",
      "100%|██████████| 1/1 [00:01<00:00,  1.08s/it]\n",
      "100%|██████████| 1/1 [00:01<00:00,  1.06s/it]\n",
      "100%|██████████| 1/1 [00:01<00:00,  1.08s/it]\n",
      "100%|██████████| 1/1 [00:01<00:00,  1.07s/it]\n",
      "100%|██████████| 1/1 [00:01<00:00,  1.05s/it]\n",
      "100%|██████████| 1/1 [00:01<00:00,  1.06s/it]\n",
      "100%|██████████| 1/1 [00:01<00:00,  1.03s/it]\n",
      "100%|██████████| 1/1 [00:01<00:00,  1.05s/it]\n",
      "100%|██████████| 1/1 [00:01<00:00,  1.01s/it]\n",
      "100%|██████████| 1/1 [00:01<00:00,  1.04s/it]\n",
      "100%|██████████| 1/1 [00:01<00:00,  1.06s/it]\n",
      "100%|██████████| 1/1 [00:01<00:00,  1.04s/it]\n",
      "100%|██████████| 1/1 [00:01<00:00,  1.03s/it]\n",
      "100%|██████████| 1/1 [00:01<00:00,  1.03s/it]\n",
      "100%|██████████| 1/1 [00:01<00:00,  1.03s/it]\n",
      "100%|██████████| 1/1 [00:01<00:00,  1.06s/it]\n",
      "100%|██████████| 1/1 [00:01<00:00,  1.00s/it]\n",
      "100%|██████████| 1/1 [00:00<00:00,  1.00it/s]\n",
      "100%|██████████| 1/1 [00:00<00:00,  1.00it/s]\n",
      "100%|██████████| 1/1 [00:01<00:00,  1.02s/it]\n",
      "100%|██████████| 1/1 [00:01<00:00,  1.03s/it]\n",
      "100%|██████████| 1/1 [00:01<00:00,  1.29s/it]\n",
      "100%|██████████| 1/1 [00:01<00:00,  1.08s/it]\n",
      "100%|██████████| 1/1 [00:01<00:00,  1.02s/it]\n",
      "100%|██████████| 1/1 [00:01<00:00,  1.02s/it]\n",
      "100%|██████████| 1/1 [00:01<00:00,  1.01s/it]\n",
      "100%|██████████| 1/1 [00:01<00:00,  1.06s/it]\n",
      "100%|██████████| 1/1 [00:01<00:00,  1.05s/it]\n",
      "100%|██████████| 1/1 [00:01<00:00,  1.02s/it]\n",
      "100%|██████████| 1/1 [00:01<00:00,  1.07s/it]\n",
      "100%|██████████| 1/1 [00:01<00:00,  1.06s/it]\n",
      "100%|██████████| 1/1 [00:01<00:00,  1.03s/it]\n",
      "100%|██████████| 1/1 [00:01<00:00,  1.14s/it]\n",
      "100%|██████████| 1/1 [00:01<00:00,  1.04s/it]\n",
      "100%|██████████| 1/1 [00:01<00:00,  1.04s/it]\n",
      "100%|██████████| 1/1 [00:01<00:00,  1.04s/it]\n",
      "100%|██████████| 1/1 [00:01<00:00,  1.06s/it]\n",
      "100%|██████████| 1/1 [00:01<00:00,  1.06s/it]\n",
      "100%|██████████| 1/1 [00:01<00:00,  1.05s/it]\n",
      "100%|██████████| 1/1 [00:01<00:00,  1.08s/it]\n",
      "100%|██████████| 1/1 [00:01<00:00,  1.05s/it]\n",
      "100%|██████████| 1/1 [00:01<00:00,  1.04s/it]\n",
      "100%|██████████| 1/1 [00:01<00:00,  1.08s/it]\n",
      "100%|██████████| 1/1 [00:01<00:00,  1.06s/it]\n",
      "100%|██████████| 1/1 [00:01<00:00,  1.04s/it]\n",
      "100%|██████████| 1/1 [00:01<00:00,  1.04s/it]\n",
      "100%|██████████| 1/1 [00:01<00:00,  1.02s/it]\n",
      "100%|██████████| 1/1 [00:01<00:00,  1.05s/it]\n",
      "100%|██████████| 1/1 [00:01<00:00,  1.30s/it]\n",
      "100%|██████████| 1/1 [00:01<00:00,  1.05s/it]\n",
      "100%|██████████| 1/1 [00:01<00:00,  1.08s/it]\n",
      "100%|██████████| 1/1 [00:01<00:00,  1.06s/it]\n",
      "100%|██████████| 1/1 [00:01<00:00,  1.09s/it]\n",
      "100%|██████████| 1/1 [00:01<00:00,  1.02s/it]\n",
      "100%|██████████| 1/1 [00:01<00:00,  1.02s/it]\n",
      "100%|██████████| 1/1 [00:01<00:00,  1.04s/it]\n",
      "100%|██████████| 1/1 [00:01<00:00,  1.03s/it]\n",
      "100%|██████████| 1/1 [00:01<00:00,  1.06s/it]\n",
      "100%|██████████| 1/1 [00:01<00:00,  1.05s/it]\n",
      "100%|██████████| 1/1 [00:01<00:00,  1.02s/it]\n",
      "100%|██████████| 1/1 [00:01<00:00,  1.03s/it]\n",
      "100%|██████████| 1/1 [00:01<00:00,  1.03s/it]\n",
      "100%|██████████| 1/1 [00:01<00:00,  1.05s/it]\n",
      "100%|██████████| 1/1 [00:01<00:00,  1.06s/it]\n",
      "100%|██████████| 1/1 [00:01<00:00,  1.06s/it]\n",
      "100%|██████████| 1/1 [00:01<00:00,  1.05s/it]\n",
      "100%|██████████| 1/1 [00:01<00:00,  1.01s/it]\n",
      "100%|██████████| 1/1 [00:01<00:00,  1.04s/it]\n",
      "100%|██████████| 1/1 [00:01<00:00,  1.06s/it]\n",
      "100%|██████████| 1/1 [00:01<00:00,  1.02s/it]\n",
      "100%|██████████| 1/1 [00:01<00:00,  1.01s/it]\n",
      "100%|██████████| 1/1 [00:00<00:00,  1.01it/s]\n",
      "100%|██████████| 1/1 [00:01<00:00,  1.04s/it]\n",
      "100%|██████████| 1/1 [00:01<00:00,  1.05s/it]\n",
      "100%|██████████| 1/1 [00:01<00:00,  1.04s/it]\n",
      "100%|██████████| 1/1 [00:01<00:00,  1.02s/it]\n",
      "100%|██████████| 1/1 [00:01<00:00,  1.02s/it]\n",
      "100%|██████████| 1/1 [00:00<00:00,  1.01it/s]\n",
      "100%|██████████| 1/1 [00:01<00:00,  1.08s/it]\n",
      "100%|██████████| 1/1 [00:01<00:00,  1.00s/it]\n",
      "100%|██████████| 1/1 [00:01<00:00,  1.01s/it]\n",
      "100%|██████████| 1/1 [00:01<00:00,  1.03s/it]\n",
      "100%|██████████| 1/1 [00:01<00:00,  1.10s/it]\n",
      "100%|██████████| 1/1 [00:01<00:00,  1.28s/it]\n",
      "100%|██████████| 1/1 [00:01<00:00,  1.03s/it]\n",
      "100%|██████████| 1/1 [00:00<00:00,  1.05it/s]\n",
      "100%|██████████| 1/1 [00:00<00:00,  1.07it/s]\n",
      "100%|██████████| 1/1 [00:00<00:00,  1.08it/s]\n",
      "100%|██████████| 1/1 [00:00<00:00,  1.06it/s]\n",
      "100%|██████████| 1/1 [00:00<00:00,  1.09it/s]\n",
      "100%|██████████| 1/1 [00:00<00:00,  1.06it/s]\n",
      "100%|██████████| 1/1 [00:00<00:00,  1.06it/s]\n",
      "100%|██████████| 1/1 [00:00<00:00,  1.06it/s]\n",
      "100%|██████████| 1/1 [00:00<00:00,  1.06it/s]\n",
      "100%|██████████| 1/1 [00:00<00:00,  1.10it/s]\n",
      "100%|██████████| 1/1 [00:00<00:00,  1.08it/s]\n",
      "100%|██████████| 1/1 [00:00<00:00,  1.06it/s]\n",
      "100%|██████████| 1/1 [00:00<00:00,  1.07it/s]\n",
      "100%|██████████| 1/1 [00:00<00:00,  1.07it/s]\n",
      "100%|██████████| 1/1 [00:00<00:00,  1.02it/s]\n",
      "100%|██████████| 1/1 [00:01<00:00,  1.02s/it]\n",
      "100%|██████████| 1/1 [00:01<00:00,  1.01s/it]\n",
      "100%|██████████| 1/1 [00:00<00:00,  1.02it/s]\n",
      "100%|██████████| 1/1 [00:01<00:00,  1.00s/it]\n",
      "100%|██████████| 1/1 [00:01<00:00,  1.00s/it]\n",
      "100%|██████████| 1/1 [00:00<00:00,  1.01it/s]\n",
      "100%|██████████| 1/1 [00:00<00:00,  1.05it/s]\n",
      "100%|██████████| 1/1 [00:00<00:00,  1.05it/s]\n",
      "100%|██████████| 1/1 [00:00<00:00,  1.08it/s]\n",
      "100%|██████████| 1/1 [00:00<00:00,  1.07it/s]\n",
      "100%|██████████| 1/1 [00:01<00:00,  1.22s/it]\n",
      "100%|██████████| 1/1 [00:01<00:00,  1.04s/it]\n"
     ]
    }
   ],
   "source": [
    "# Open webcam\n",
    "cap = cv2.VideoCapture(0)\n",
    "\n",
    "if not cap.isOpened():\n",
    "    print(\"Error: Could not open webcam.\")\n",
    "    exit()\n",
    "\n",
    "print(\"Press 'q' to quit.\")\n",
    "\n",
    "\n",
    "while True:\n",
    "    ret, frame = cap.read()\n",
    "    if not ret:\n",
    "        break\n",
    "\n",
    "    # Convert to RGB\n",
    "    rgb_frame = cv2.cvtColor(frame, cv2.COLOR_BGR2RGB)\n",
    "\n",
    "    try:\n",
    "        # Save frame to a temporary file\n",
    "        with tempfile.NamedTemporaryFile(suffix=\".jpg\", delete=False) as tmpfile:\n",
    "            temp_path = tmpfile.name\n",
    "            cv2.imwrite(temp_path, cv2.cvtColor(rgb_frame, cv2.COLOR_RGB2BGR))\n",
    "\n",
    "        # Use detect_image on the file path\n",
    "        result = detector.detect_image(temp_path)\n",
    "\n",
    "        # Clean up temp file\n",
    "        os.remove(temp_path)\n",
    "\n",
    "        # Draw a solid black box on the left side\n",
    "        cv2.rectangle(frame, (0, 0), (110, frame.shape[0]), (0, 0, 0), -1)  # width=220 px\n",
    "\n",
    "        # Show top emotion\n",
    "        if not result.empty:\n",
    "            aus = result.aus.iloc[0]  # Get all AUs for the current frame\n",
    "            emotion = result.emotions.iloc[0].idxmax() # Emotion with highest score\n",
    "            y_offset = 30  # Starting y position for text display\n",
    "\n",
    "            for au_name, au_value in aus.items():\n",
    "                text = f\"{au_name}: {au_value:.2f}\"\n",
    "                cv2.putText(frame, text, (10, y_offset), cv2.FONT_HERSHEY_SIMPLEX, 0.5, (0, 0, 255), 1)\n",
    "                y_offset += 20  # Move down for the next AU line\n",
    "\n",
    "            # Space between AUs and emotion\n",
    "            y_offset += 20  # Add spacing after last AU\n",
    "            cv2.putText(frame, \"Emotion:\", (10, y_offset), cv2.FONT_HERSHEY_SIMPLEX, 0.5, (0, 0, 255), 1)\n",
    "            y_offset += 20\n",
    "            cv2.putText(frame, emotion, (10, y_offset), cv2.FONT_HERSHEY_SIMPLEX, 0.5, (0, 0, 255), 1)\n",
    "    except Exception as e:\n",
    "        print(\"Detection error:\", e)\n",
    "\n",
    "    cv2.imshow(\"Real-Time Emotion Detection\", frame)\n",
    "\n",
    "    if cv2.waitKey(1) & 0xFF == ord('q'):\n",
    "        break\n",
    "\n",
    "cap.release()\n",
    "cv2.destroyAllWindows()"
   ]
  }
 ],
 "metadata": {
  "kernelspec": {
   "display_name": "fau-detection-env",
   "language": "python",
   "name": "python3"
  },
  "language_info": {
   "codemirror_mode": {
    "name": "ipython",
    "version": 3
   },
   "file_extension": ".py",
   "mimetype": "text/x-python",
   "name": "python",
   "nbconvert_exporter": "python",
   "pygments_lexer": "ipython3",
   "version": "3.11.13"
  }
 },
 "nbformat": 4,
 "nbformat_minor": 5
}
